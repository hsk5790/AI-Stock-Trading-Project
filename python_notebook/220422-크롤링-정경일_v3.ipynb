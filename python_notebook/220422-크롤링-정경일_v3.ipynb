{
 "cells": [
  {
   "cell_type": "code",
   "execution_count": 1,
   "id": "3ad59592",
   "metadata": {
    "scrolled": true
   },
   "outputs": [
    {
     "name": "stderr",
     "output_type": "stream",
     "text": [
      "C:\\Users\\gyo12\\AppData\\Local\\Temp\\ipykernel_15476\\3500952992.py:9: DeprecationWarning: Importing display from IPython.core.display is deprecated since IPython 7.14, please import from IPython display\n",
      "  from IPython.core.display import display, HTML\n"
     ]
    },
    {
     "data": {
      "text/html": [
       "<style>.container { width:100% !important; }</style>"
      ],
      "text/plain": [
       "<IPython.core.display.HTML object>"
      ]
     },
     "metadata": {},
     "output_type": "display_data"
    }
   ],
   "source": [
    "import json\n",
    "import os\n",
    "import pandas as pd\n",
    "import numpy as np\n",
    "from bs4 import BeautifulSoup\n",
    "import re\n",
    "import requests\n",
    "from webob.compat import urlparse\n",
    "from IPython.core.display import display, HTML \n",
    "display(HTML(\"<style>.container { width:100% !important; }</style>\"))\n",
    "from tqdm import notebook\n",
    "import math\n",
    "from urllib.request import urlopen\n",
    "from tqdm import tqdm\n",
    "import time\n",
    "pd.options.display.max_colwidth = None"
   ]
  },
  {
   "cell_type": "code",
   "execution_count": 2,
   "id": "2fe9b63e",
   "metadata": {},
   "outputs": [],
   "source": [
    "def craw():\n",
    "    news = bs.find_all('dl', {'class' : 'newsList'})\n",
    "    news_list = []\n",
    "    news_list_2 = []\n",
    "    title_list = []\n",
    "    title_list_2 = []\n",
    "    url_list = []\n",
    "    url_list_2 = []\n",
    "    for new in news:\n",
    "        title = new.find_all('dt',{'class' : 'articleSubject'})\n",
    "        title_2 = new.find_all('dd',{'class' : 'articleSubject'})\n",
    "        date_time = new.find_all('dd',{'class' : 'articleSummary'})\n",
    "        for dt in title:\n",
    "            dd = dt.text[1:-1]\n",
    "            link = dt.find(\"a\")[\"href\"]\n",
    "            article_url = 'https://finance.naver.com/' + link\n",
    "            url_list.append(article_url)\n",
    "            title_list.append(dd)\n",
    "        for oo in title_2:\n",
    "            article_title = oo.text[1:-1]\n",
    "            link = oo.find(\"a\")[\"href\"]\n",
    "            article_url = 'https://finance.naver.com/' + link\n",
    "            text_list = [article_title, article_url]\n",
    "            url_list_2.append(article_url)\n",
    "            title_list_2.append(article_title)\n",
    "        url_result = [url_list, url_list_2]\n",
    "        title_result = [title_list, title_list_2]\n",
    "    return url_result, title_result"
   ]
  },
  {
   "cell_type": "code",
   "execution_count": 3,
   "id": "ae7c294d",
   "metadata": {},
   "outputs": [
    {
     "name": "stdout",
     "output_type": "stream",
     "text": [
      "6920\n"
     ]
    }
   ],
   "source": [
    "search = \"변기\"\n",
    "stDateStart= \"2021-06-20\"\n",
    "stDateEnd= \"2021-07-20\"\n",
    "euc_data = search.encode('euc-kr')\n",
    "tmp = str(euc_data).replace(\"\\\\x\",\"%\")[2:-1]\n",
    "hh = []\n",
    "page = 1\n",
    "url = f\"https://finance.naver.com/news/news_search.nhn?rcdate=&q={tmp}\\\n",
    "    &x=5&y=7&sm=all.basic&pd=1&{stDateStart}&{stDateEnd}&page={page}\"\n",
    "req = requests.get(url)\n",
    "bs = BeautifulSoup(req.content, \"html.parser\")\n",
    "strong = bs.find_all('strong')\n",
    "article_num = strong[-3]\n",
    "article_num = int(re.sub(r\"[^a-zA-Z0-9]\",\"\",article_num.text))\n",
    "i = math.ceil(article_num/20)\n",
    "tmp3 = []\n",
    "print(article_num)\n",
    "i += 1\n",
    "\n",
    "for page in range(1,i):\n",
    "    url = f\"https://finance.naver.com/news/news_search.nhn?rcdate=&q={tmp}\\\n",
    "        &x=5&y=7&sm=all.basic&pd=1&{stDateStart}&{stDateEnd}&page={page}\"\n",
    "    req = requests.get(url)\n",
    "    bs = BeautifulSoup(req.content, \"html.parser\")\n",
    "    url_list, title_list = craw()\n",
    "    url_list = [y for x in url_list for y in x]\n",
    "    title_list = [y for x in title_list for y in x]\n",
    "    for j in range(len(url_list)):\n",
    "        tmp2 = []\n",
    "        tmp2.append(url_list[j])\n",
    "        tmp2.append(title_list[j])\n",
    "        tmp3.append(tmp2)"
   ]
  },
  {
   "cell_type": "code",
   "execution_count": 17,
   "id": "f8ca6028",
   "metadata": {},
   "outputs": [
    {
     "data": {
      "text/html": [
       "<div>\n",
       "<style scoped>\n",
       "    .dataframe tbody tr th:only-of-type {\n",
       "        vertical-align: middle;\n",
       "    }\n",
       "\n",
       "    .dataframe tbody tr th {\n",
       "        vertical-align: top;\n",
       "    }\n",
       "\n",
       "    .dataframe thead th {\n",
       "        text-align: right;\n",
       "    }\n",
       "</style>\n",
       "<table border=\"1\" class=\"dataframe\">\n",
       "  <thead>\n",
       "    <tr style=\"text-align: right;\">\n",
       "      <th></th>\n",
       "      <th>0</th>\n",
       "      <th>1</th>\n",
       "    </tr>\n",
       "  </thead>\n",
       "  <tbody>\n",
       "    <tr>\n",
       "      <th>0</th>\n",
       "      <td>https://finance.naver.com//news/news_read.naver?article_id=0000356944&amp;office_id=448&amp;mode=search&amp;query=변기&amp;page=1</td>\n",
       "      <td>납품업체 교체 놓고도 갈등…\"조합 갑질' vs \"고급화 차원\"</td>\n",
       "    </tr>\n",
       "    <tr>\n",
       "      <th>1</th>\n",
       "      <td>https://finance.naver.com//news/news_read.naver?article_id=0005187814&amp;office_id=018&amp;mode=search&amp;query=변기&amp;page=1</td>\n",
       "      <td>[미리보는 이데일리 신문]尹정부, 공급 틀어막던 고분양가심사제 손본다</td>\n",
       "    </tr>\n",
       "    <tr>\n",
       "      <th>2</th>\n",
       "      <td>https://finance.naver.com//news/news_read.naver?article_id=0004736180&amp;office_id=008&amp;mode=search&amp;query=변기&amp;page=1</td>\n",
       "      <td>바스템, 2022 소비자가 뽑은 서비스고객만족대상 수상</td>\n",
       "    </tr>\n",
       "    <tr>\n",
       "      <th>3</th>\n",
       "      <td>https://finance.naver.com//news/news_read.naver?article_id=0013129818&amp;office_id=001&amp;mode=search&amp;query=변기&amp;page=1</td>\n",
       "      <td>[서산소식] 상공회의소, 1천만원 상당 어르신 안전용품 기탁</td>\n",
       "    </tr>\n",
       "    <tr>\n",
       "      <th>4</th>\n",
       "      <td>https://finance.naver.com//news/news_read.naver?article_id=0000804687&amp;office_id=417&amp;mode=search&amp;query=변기&amp;page=1</td>\n",
       "      <td>[르포] 서울 역사·문화·관광 최고의 명소 꿈꾼다… '세운블록' 미래는?</td>\n",
       "    </tr>\n",
       "    <tr>\n",
       "      <th>...</th>\n",
       "      <td>...</td>\n",
       "      <td>...</td>\n",
       "    </tr>\n",
       "    <tr>\n",
       "      <th>77</th>\n",
       "      <td>https://finance.naver.com//news/news_read.naver?article_id=0004652832&amp;office_id=015&amp;mode=search&amp;query=КЏБт&amp;page=4</td>\n",
       "      <td>АэАГ '90ЕЕ' ВЊОюОп АЩРЛ Мі РжДТЕЅ…ПљММ 47ИИПј НЧШ­?</td>\n",
       "    </tr>\n",
       "    <tr>\n",
       "      <th>78</th>\n",
       "      <td>https://finance.naver.com//news/news_read.naver?article_id=0004906373&amp;office_id=009&amp;mode=search&amp;query=КЏБт&amp;page=4</td>\n",
       "      <td>\"КЏБтЙАЕЕ ИјГЛИБ ЦЧ\"…ЧЯМіУГИЎРх ПыЗЎ ЧбАшФЁ АњУЕ 'РчАЧУр СпДм ПьЗС'</td>\n",
       "    </tr>\n",
       "    <tr>\n",
       "      <th>79</th>\n",
       "      <td>https://finance.naver.com//news/news_read.naver?article_id=0005122242&amp;office_id=018&amp;mode=search&amp;query=КЏБт&amp;page=4</td>\n",
       "      <td>КэЗчЙжКёЕЅ, 2ШИ ПЌМг CCM РЮСѕ БтГф ЧрЛч СјЧр</td>\n",
       "    </tr>\n",
       "    <tr>\n",
       "      <th>80</th>\n",
       "      <td>https://finance.naver.com//news/news_read.naver?article_id=0005826601&amp;office_id=421&amp;mode=search&amp;query=КЏБт&amp;page=5</td>\n",
       "      <td>'СпДыРчЧиЙ§' ОеЕЮАэ КЮЛъЧр KTX ХЛМБЛчАэ…ФкЗЙРЯ ЛчРх ЧіРхСїЧр(СОЧе)</td>\n",
       "    </tr>\n",
       "    <tr>\n",
       "      <th>81</th>\n",
       "      <td>https://finance.naver.com//news/news_read.naver?article_id=0004690466&amp;office_id=008&amp;mode=search&amp;query=КЏБт&amp;page=5</td>\n",
       "      <td>[БлЗЮЙњЧѕНХБтМњДыЛѓ] МЎНТБЙ ЂпРчРЯПј(ХЉИАЦФЦФ) ДыЧЅ \"'ДЋПЇАЁНУ' ХАПьСі ИЛАэ ...</td>\n",
       "    </tr>\n",
       "  </tbody>\n",
       "</table>\n",
       "<p>82 rows × 2 columns</p>\n",
       "</div>"
      ],
      "text/plain": [
       "                                                                                                                    0  \\\n",
       "0     https://finance.naver.com//news/news_read.naver?article_id=0000356944&office_id=448&mode=search&query=변기&page=1   \n",
       "1     https://finance.naver.com//news/news_read.naver?article_id=0005187814&office_id=018&mode=search&query=변기&page=1   \n",
       "2     https://finance.naver.com//news/news_read.naver?article_id=0004736180&office_id=008&mode=search&query=변기&page=1   \n",
       "3     https://finance.naver.com//news/news_read.naver?article_id=0013129818&office_id=001&mode=search&query=변기&page=1   \n",
       "4     https://finance.naver.com//news/news_read.naver?article_id=0000804687&office_id=417&mode=search&query=변기&page=1   \n",
       "..                                                                                                                ...   \n",
       "77  https://finance.naver.com//news/news_read.naver?article_id=0004652832&office_id=015&mode=search&query=КЏБт&page=4   \n",
       "78  https://finance.naver.com//news/news_read.naver?article_id=0004906373&office_id=009&mode=search&query=КЏБт&page=4   \n",
       "79  https://finance.naver.com//news/news_read.naver?article_id=0005122242&office_id=018&mode=search&query=КЏБт&page=4   \n",
       "80  https://finance.naver.com//news/news_read.naver?article_id=0005826601&office_id=421&mode=search&query=КЏБт&page=5   \n",
       "81  https://finance.naver.com//news/news_read.naver?article_id=0004690466&office_id=008&mode=search&query=КЏБт&page=5   \n",
       "\n",
       "                                                                                  1  \n",
       "0                                                납품업체 교체 놓고도 갈등…\"조합 갑질' vs \"고급화 차원\"  \n",
       "1                                            [미리보는 이데일리 신문]尹정부, 공급 틀어막던 고분양가심사제 손본다  \n",
       "2                                                    바스템, 2022 소비자가 뽑은 서비스고객만족대상 수상  \n",
       "3                                                 [서산소식] 상공회의소, 1천만원 상당 어르신 안전용품 기탁  \n",
       "4                                          [르포] 서울 역사·문화·관광 최고의 명소 꿈꾼다… '세운블록' 미래는?  \n",
       "..                                                                              ...  \n",
       "77                              АэАГ '90ЕЕ' ВЊОюОп АЩРЛ Мі РжДТЕЅ…ПљММ 47ИИПј НЧШ­?  \n",
       "78              \"КЏБтЙАЕЕ ИјГЛИБ ЦЧ\"…ЧЯМіУГИЎРх ПыЗЎ ЧбАшФЁ АњУЕ 'РчАЧУр СпДм ПьЗС'  \n",
       "79                                     КэЗчЙжКёЕЅ, 2ШИ ПЌМг CCM РЮСѕ БтГф ЧрЛч СјЧр  \n",
       "80               'СпДыРчЧиЙ§' ОеЕЮАэ КЮЛъЧр KTX ХЛМБЛчАэ…ФкЗЙРЯ ЛчРх ЧіРхСїЧр(СОЧе)  \n",
       "81  [БлЗЮЙњЧѕНХБтМњДыЛѓ] МЎНТБЙ ЂпРчРЯПј(ХЉИАЦФЦФ) ДыЧЅ \"'ДЋПЇАЁНУ' ХАПьСі ИЛАэ ...  \n",
       "\n",
       "[82 rows x 2 columns]"
      ]
     },
     "execution_count": 17,
     "metadata": {},
     "output_type": "execute_result"
    }
   ],
   "source": [
    "tmp3 = pd.DataFrame(tmp3)\n",
    "tmp3.head(82)"
   ]
  },
  {
   "cell_type": "code",
   "execution_count": 5,
   "id": "9a43ad40",
   "metadata": {},
   "outputs": [],
   "source": [
    "tmp3.to_csv('news_sample.csv')"
   ]
  },
  {
   "cell_type": "code",
   "execution_count": 6,
   "id": "cc23dbb3",
   "metadata": {},
   "outputs": [],
   "source": [
    "test_samples = pd.read_csv('news_sample.csv', encoding='utf-8')"
   ]
  },
  {
   "cell_type": "code",
   "execution_count": 7,
   "id": "12faedc2",
   "metadata": {},
   "outputs": [],
   "source": [
    "crawling = test_samples[:]['0']"
   ]
  },
  {
   "cell_type": "code",
   "execution_count": 21,
   "id": "2f5dedbc",
   "metadata": {},
   "outputs": [
    {
     "ename": "TypeError",
     "evalue": "'int' object is not iterable",
     "output_type": "error",
     "traceback": [
      "\u001b[1;31m---------------------------------------------------------------------------\u001b[0m",
      "\u001b[1;31mTypeError\u001b[0m                                 Traceback (most recent call last)",
      "Input \u001b[1;32mIn [21]\u001b[0m, in \u001b[0;36m<cell line: 1>\u001b[1;34m()\u001b[0m\n\u001b[1;32m----> 1\u001b[0m \u001b[38;5;28;01mfor\u001b[39;00m i \u001b[38;5;129;01min\u001b[39;00m \u001b[38;5;28mlen\u001b[39m(crawling):\n\u001b[0;32m      2\u001b[0m     crawling[i]\n",
      "\u001b[1;31mTypeError\u001b[0m: 'int' object is not iterable"
     ]
    }
   ],
   "source": [
    "for i in len(crawling):\n",
    "    crawling[i]"
   ]
  },
  {
   "cell_type": "code",
   "execution_count": 9,
   "id": "a7c6bb70",
   "metadata": {},
   "outputs": [
    {
     "name": "stderr",
     "output_type": "stream",
     "text": [
      "\r",
      "  0%|                                                                                         | 0/6920 [00:00<?, ?it/s]"
     ]
    },
    {
     "name": "stdout",
     "output_type": "stream",
     "text": [
      "https://finance.naver.com//news/news_read.naver?article_id=0000356944&office_id=448&mode=search&query=%ba%af%b1%e2%ba%af%b1%e2&page=1\n"
     ]
    },
    {
     "name": "stderr",
     "output_type": "stream",
     "text": [
      "\r",
      "  0%|                                                                                 | 1/6920 [00:00<34:39,  3.33it/s]"
     ]
    },
    {
     "name": "stdout",
     "output_type": "stream",
     "text": [
      "https://finance.naver.com//news/news_read.naver?article_id=0005187814&office_id=018&mode=search&query=%ba%af%b1%e2%ba%af%b1%e2&page=1\n"
     ]
    },
    {
     "name": "stderr",
     "output_type": "stream",
     "text": [
      "\r",
      "  0%|                                                                                 | 2/6920 [00:00<39:04,  2.95it/s]"
     ]
    },
    {
     "name": "stdout",
     "output_type": "stream",
     "text": [
      "https://finance.naver.com//news/news_read.naver?article_id=0004736180&office_id=008&mode=search&query=%ba%af%b1%e2%ba%af%b1%e2&page=1\n"
     ]
    },
    {
     "name": "stderr",
     "output_type": "stream",
     "text": [
      "\r",
      "  0%|                                                                                 | 3/6920 [00:00<33:41,  3.42it/s]"
     ]
    },
    {
     "name": "stdout",
     "output_type": "stream",
     "text": [
      "https://finance.naver.com//news/news_read.naver?article_id=0013129818&office_id=001&mode=search&query=%ba%af%b1%e2%ba%af%b1%e2&page=1\n"
     ]
    },
    {
     "name": "stderr",
     "output_type": "stream",
     "text": [
      "\r",
      "  0%|                                                                                 | 4/6920 [00:01<31:53,  3.61it/s]"
     ]
    },
    {
     "name": "stdout",
     "output_type": "stream",
     "text": [
      "https://finance.naver.com//news/news_read.naver?article_id=0000804687&office_id=417&mode=search&query=%ba%af%b1%e2%ba%af%b1%e2&page=1\n"
     ]
    },
    {
     "name": "stderr",
     "output_type": "stream",
     "text": [
      "\r",
      "  0%|                                                                                 | 5/6920 [00:01<33:30,  3.44it/s]"
     ]
    },
    {
     "name": "stdout",
     "output_type": "stream",
     "text": [
      "https://finance.naver.com//news/news_read.naver?article_id=0004042048&office_id=011&mode=search&query=%ba%af%b1%e2%ba%af%b1%e2&page=1\n"
     ]
    },
    {
     "name": "stderr",
     "output_type": "stream",
     "text": [
      "\r",
      "  0%|                                                                                 | 6/6920 [00:01<31:26,  3.66it/s]"
     ]
    },
    {
     "name": "stdout",
     "output_type": "stream",
     "text": [
      "https://finance.naver.com//news/news_read.naver?article_id=0001149767&office_id=082&mode=search&query=%ba%af%b1%e2%ba%af%b1%e2&page=1\n"
     ]
    },
    {
     "name": "stderr",
     "output_type": "stream",
     "text": [
      "\r",
      "  0%|                                                                                 | 7/6920 [00:02<33:32,  3.44it/s]"
     ]
    },
    {
     "name": "stdout",
     "output_type": "stream",
     "text": [
      "https://finance.naver.com//news/news_read.naver?article_id=0004946329&office_id=009&mode=search&query=%ba%af%b1%e2%ba%af%b1%e2&page=1\n"
     ]
    },
    {
     "name": "stderr",
     "output_type": "stream",
     "text": [
      "\r",
      "  0%|                                                                                 | 8/6920 [00:02<33:50,  3.40it/s]"
     ]
    },
    {
     "name": "stdout",
     "output_type": "stream",
     "text": [
      "https://finance.naver.com//news/news_read.naver?article_id=0004816228&office_id=014&mode=search&query=%ba%af%b1%e2%ba%af%b1%e2&page=1\n"
     ]
    },
    {
     "name": "stderr",
     "output_type": "stream",
     "text": [
      "\r",
      "  0%|                                                                                 | 9/6920 [00:02<32:03,  3.59it/s]"
     ]
    },
    {
     "name": "stdout",
     "output_type": "stream",
     "text": [
      "https://finance.naver.com//news/news_read.naver?article_id=0006014035&office_id=421&mode=search&query=%ba%af%b1%e2%ba%af%b1%e2&page=1\n"
     ]
    },
    {
     "name": "stderr",
     "output_type": "stream",
     "text": [
      "\r",
      "  0%|                                                                                | 10/6920 [00:02<33:41,  3.42it/s]"
     ]
    },
    {
     "name": "stdout",
     "output_type": "stream",
     "text": [
      "https://finance.naver.com//news/news_read.naver?article_id=0003008516&office_id=030&mode=search&query=%ba%af%b1%e2%ba%af%b1%e2&page=1\n"
     ]
    },
    {
     "name": "stderr",
     "output_type": "stream",
     "text": [
      "  0%|▏                                                                               | 12/6920 [00:03<30:43,  3.75it/s]"
     ]
    },
    {
     "name": "stdout",
     "output_type": "stream",
     "text": [
      "https://finance.naver.com//news/news_read.naver?article_id=0004682011&office_id=015&mode=search&query=%ba%af%b1%e2%ba%af%b1%e2&page=1\n",
      "https://finance.naver.com//news/news_read.naver?article_id=0002590001&office_id=119&mode=search&query=%ba%af%b1%e2%ba%af%b1%e2&page=1\n"
     ]
    },
    {
     "name": "stderr",
     "output_type": "stream",
     "text": [
      "\r",
      "  0%|▏                                                                               | 13/6920 [00:03<31:10,  3.69it/s]"
     ]
    },
    {
     "name": "stdout",
     "output_type": "stream",
     "text": [
      "https://finance.naver.com//news/news_read.naver?article_id=0005066653&office_id=277&mode=search&query=%ba%af%b1%e2%ba%af%b1%e2&page=1\n"
     ]
    },
    {
     "name": "stderr",
     "output_type": "stream",
     "text": [
      "\r",
      "  0%|▏                                                                               | 14/6920 [00:03<31:36,  3.64it/s]"
     ]
    },
    {
     "name": "stdout",
     "output_type": "stream",
     "text": [
      "https://finance.naver.com//news/news_read.naver?article_id=0003007001&office_id=030&mode=search&query=%ba%af%b1%e2%ba%af%b1%e2&page=1\n"
     ]
    },
    {
     "name": "stderr",
     "output_type": "stream",
     "text": [
      "  0%|▏                                                                               | 16/6920 [00:04<28:53,  3.98it/s]"
     ]
    },
    {
     "name": "stdout",
     "output_type": "stream",
     "text": [
      "https://finance.naver.com//news/news_read.naver?article_id=0000799242&office_id=417&mode=search&query=%ba%af%b1%e2%ba%af%b1%e2&page=1\n",
      "https://finance.naver.com//news/news_read.naver?article_id=0004811761&office_id=014&mode=search&query=%ba%af%b1%e2%ba%af%b1%e2&page=1\n"
     ]
    },
    {
     "name": "stderr",
     "output_type": "stream",
     "text": [
      "\r",
      "  0%|▏                                                                               | 17/6920 [00:04<29:33,  3.89it/s]"
     ]
    },
    {
     "name": "stdout",
     "output_type": "stream",
     "text": [
      "https://finance.naver.com//news/news_read.naver?article_id=0004679380&office_id=015&mode=search&query=%ba%af%b1%e2%ba%af%b1%e2&page=1\n"
     ]
    },
    {
     "name": "stderr",
     "output_type": "stream",
     "text": [
      "\r",
      "  0%|▏                                                                               | 18/6920 [00:05<32:45,  3.51it/s]"
     ]
    },
    {
     "name": "stdout",
     "output_type": "stream",
     "text": [
      "https://finance.naver.com//news/news_read.naver?article_id=0004679176&office_id=015&mode=search&query=%ba%af%b1%e2%ba%af%b1%e2&page=1\n"
     ]
    },
    {
     "name": "stderr",
     "output_type": "stream",
     "text": [
      "\r",
      "  0%|▏                                                                               | 19/6920 [00:05<31:29,  3.65it/s]"
     ]
    },
    {
     "name": "stdout",
     "output_type": "stream",
     "text": [
      "https://finance.naver.com//news/news_read.naver?article_id=0002589203&office_id=119&mode=search&query=%ba%af%b1%e2%ba%af%b1%e2&page=1\n"
     ]
    },
    {
     "name": "stderr",
     "output_type": "stream",
     "text": [
      "  0%|▏                                                                               | 20/6920 [00:05<32:17,  3.56it/s]\n"
     ]
    },
    {
     "name": "stdout",
     "output_type": "stream",
     "text": [
      "https://finance.naver.com//news/news_read.naver?article_id=0004796655&office_id=014&mode=search&query=КЏБт&page=2\n"
     ]
    },
    {
     "ename": "UnicodeEncodeError",
     "evalue": "'ascii' codec can't encode characters in position 81-84: ordinal not in range(128)",
     "output_type": "error",
     "traceback": [
      "\u001b[1;31m---------------------------------------------------------------------------\u001b[0m",
      "\u001b[1;31mUnicodeEncodeError\u001b[0m                        Traceback (most recent call last)",
      "Input \u001b[1;32mIn [9]\u001b[0m, in \u001b[0;36m<cell line: 6>\u001b[1;34m()\u001b[0m\n\u001b[0;32m      7\u001b[0m i \u001b[38;5;241m=\u001b[39m re\u001b[38;5;241m.\u001b[39msub(\u001b[38;5;124mr\u001b[39m\u001b[38;5;124m'\u001b[39m\u001b[38;5;124m[ㄱ-ㅣ가-힣]\u001b[39m\u001b[38;5;124m'\u001b[39m,bk2, i)\n\u001b[0;32m      8\u001b[0m \u001b[38;5;28mprint\u001b[39m(i)\n\u001b[1;32m----> 9\u001b[0m page \u001b[38;5;241m=\u001b[39m \u001b[43murlopen\u001b[49m\u001b[43m(\u001b[49m\u001b[43mi\u001b[49m\u001b[43m)\u001b[49m\n\u001b[0;32m     10\u001b[0m soup \u001b[38;5;241m=\u001b[39m BeautifulSoup(page, \u001b[38;5;124m'\u001b[39m\u001b[38;5;124mhtml.parser\u001b[39m\u001b[38;5;124m'\u001b[39m, from_encoding\u001b[38;5;241m=\u001b[39m\u001b[38;5;124m'\u001b[39m\u001b[38;5;124mcp-949\u001b[39m\u001b[38;5;124m'\u001b[39m)\n\u001b[0;32m     11\u001b[0m a_v1 \u001b[38;5;241m=\u001b[39m soup\u001b[38;5;241m.\u001b[39mfind(\u001b[38;5;124m'\u001b[39m\u001b[38;5;124mdiv\u001b[39m\u001b[38;5;124m'\u001b[39m, \u001b[38;5;28mid\u001b[39m\u001b[38;5;241m=\u001b[39m\u001b[38;5;124m'\u001b[39m\u001b[38;5;124mcontent\u001b[39m\u001b[38;5;124m'\u001b[39m, class_\u001b[38;5;241m=\u001b[39m\u001b[38;5;124m'\u001b[39m\u001b[38;5;124marticleCont\u001b[39m\u001b[38;5;124m'\u001b[39m)\n",
      "File \u001b[1;32m~\\anaconda3\\envs\\BKST\\lib\\urllib\\request.py:214\u001b[0m, in \u001b[0;36murlopen\u001b[1;34m(url, data, timeout, cafile, capath, cadefault, context)\u001b[0m\n\u001b[0;32m    212\u001b[0m \u001b[38;5;28;01melse\u001b[39;00m:\n\u001b[0;32m    213\u001b[0m     opener \u001b[38;5;241m=\u001b[39m _opener\n\u001b[1;32m--> 214\u001b[0m \u001b[38;5;28;01mreturn\u001b[39;00m \u001b[43mopener\u001b[49m\u001b[38;5;241;43m.\u001b[39;49m\u001b[43mopen\u001b[49m\u001b[43m(\u001b[49m\u001b[43murl\u001b[49m\u001b[43m,\u001b[49m\u001b[43m \u001b[49m\u001b[43mdata\u001b[49m\u001b[43m,\u001b[49m\u001b[43m \u001b[49m\u001b[43mtimeout\u001b[49m\u001b[43m)\u001b[49m\n",
      "File \u001b[1;32m~\\anaconda3\\envs\\BKST\\lib\\urllib\\request.py:517\u001b[0m, in \u001b[0;36mOpenerDirector.open\u001b[1;34m(self, fullurl, data, timeout)\u001b[0m\n\u001b[0;32m    514\u001b[0m     req \u001b[38;5;241m=\u001b[39m meth(req)\n\u001b[0;32m    516\u001b[0m sys\u001b[38;5;241m.\u001b[39maudit(\u001b[38;5;124m'\u001b[39m\u001b[38;5;124murllib.Request\u001b[39m\u001b[38;5;124m'\u001b[39m, req\u001b[38;5;241m.\u001b[39mfull_url, req\u001b[38;5;241m.\u001b[39mdata, req\u001b[38;5;241m.\u001b[39mheaders, req\u001b[38;5;241m.\u001b[39mget_method())\n\u001b[1;32m--> 517\u001b[0m response \u001b[38;5;241m=\u001b[39m \u001b[38;5;28;43mself\u001b[39;49m\u001b[38;5;241;43m.\u001b[39;49m\u001b[43m_open\u001b[49m\u001b[43m(\u001b[49m\u001b[43mreq\u001b[49m\u001b[43m,\u001b[49m\u001b[43m \u001b[49m\u001b[43mdata\u001b[49m\u001b[43m)\u001b[49m\n\u001b[0;32m    519\u001b[0m \u001b[38;5;66;03m# post-process response\u001b[39;00m\n\u001b[0;32m    520\u001b[0m meth_name \u001b[38;5;241m=\u001b[39m protocol\u001b[38;5;241m+\u001b[39m\u001b[38;5;124m\"\u001b[39m\u001b[38;5;124m_response\u001b[39m\u001b[38;5;124m\"\u001b[39m\n",
      "File \u001b[1;32m~\\anaconda3\\envs\\BKST\\lib\\urllib\\request.py:534\u001b[0m, in \u001b[0;36mOpenerDirector._open\u001b[1;34m(self, req, data)\u001b[0m\n\u001b[0;32m    531\u001b[0m     \u001b[38;5;28;01mreturn\u001b[39;00m result\n\u001b[0;32m    533\u001b[0m protocol \u001b[38;5;241m=\u001b[39m req\u001b[38;5;241m.\u001b[39mtype\n\u001b[1;32m--> 534\u001b[0m result \u001b[38;5;241m=\u001b[39m \u001b[38;5;28;43mself\u001b[39;49m\u001b[38;5;241;43m.\u001b[39;49m\u001b[43m_call_chain\u001b[49m\u001b[43m(\u001b[49m\u001b[38;5;28;43mself\u001b[39;49m\u001b[38;5;241;43m.\u001b[39;49m\u001b[43mhandle_open\u001b[49m\u001b[43m,\u001b[49m\u001b[43m \u001b[49m\u001b[43mprotocol\u001b[49m\u001b[43m,\u001b[49m\u001b[43m \u001b[49m\u001b[43mprotocol\u001b[49m\u001b[43m \u001b[49m\u001b[38;5;241;43m+\u001b[39;49m\n\u001b[0;32m    535\u001b[0m \u001b[43m                          \u001b[49m\u001b[38;5;124;43m'\u001b[39;49m\u001b[38;5;124;43m_open\u001b[39;49m\u001b[38;5;124;43m'\u001b[39;49m\u001b[43m,\u001b[49m\u001b[43m \u001b[49m\u001b[43mreq\u001b[49m\u001b[43m)\u001b[49m\n\u001b[0;32m    536\u001b[0m \u001b[38;5;28;01mif\u001b[39;00m result:\n\u001b[0;32m    537\u001b[0m     \u001b[38;5;28;01mreturn\u001b[39;00m result\n",
      "File \u001b[1;32m~\\anaconda3\\envs\\BKST\\lib\\urllib\\request.py:494\u001b[0m, in \u001b[0;36mOpenerDirector._call_chain\u001b[1;34m(self, chain, kind, meth_name, *args)\u001b[0m\n\u001b[0;32m    492\u001b[0m \u001b[38;5;28;01mfor\u001b[39;00m handler \u001b[38;5;129;01min\u001b[39;00m handlers:\n\u001b[0;32m    493\u001b[0m     func \u001b[38;5;241m=\u001b[39m \u001b[38;5;28mgetattr\u001b[39m(handler, meth_name)\n\u001b[1;32m--> 494\u001b[0m     result \u001b[38;5;241m=\u001b[39m \u001b[43mfunc\u001b[49m\u001b[43m(\u001b[49m\u001b[38;5;241;43m*\u001b[39;49m\u001b[43margs\u001b[49m\u001b[43m)\u001b[49m\n\u001b[0;32m    495\u001b[0m     \u001b[38;5;28;01mif\u001b[39;00m result \u001b[38;5;129;01mis\u001b[39;00m \u001b[38;5;129;01mnot\u001b[39;00m \u001b[38;5;28;01mNone\u001b[39;00m:\n\u001b[0;32m    496\u001b[0m         \u001b[38;5;28;01mreturn\u001b[39;00m result\n",
      "File \u001b[1;32m~\\anaconda3\\envs\\BKST\\lib\\urllib\\request.py:1389\u001b[0m, in \u001b[0;36mHTTPSHandler.https_open\u001b[1;34m(self, req)\u001b[0m\n\u001b[0;32m   1388\u001b[0m \u001b[38;5;28;01mdef\u001b[39;00m \u001b[38;5;21mhttps_open\u001b[39m(\u001b[38;5;28mself\u001b[39m, req):\n\u001b[1;32m-> 1389\u001b[0m     \u001b[38;5;28;01mreturn\u001b[39;00m \u001b[38;5;28;43mself\u001b[39;49m\u001b[38;5;241;43m.\u001b[39;49m\u001b[43mdo_open\u001b[49m\u001b[43m(\u001b[49m\u001b[43mhttp\u001b[49m\u001b[38;5;241;43m.\u001b[39;49m\u001b[43mclient\u001b[49m\u001b[38;5;241;43m.\u001b[39;49m\u001b[43mHTTPSConnection\u001b[49m\u001b[43m,\u001b[49m\u001b[43m \u001b[49m\u001b[43mreq\u001b[49m\u001b[43m,\u001b[49m\n\u001b[0;32m   1390\u001b[0m \u001b[43m        \u001b[49m\u001b[43mcontext\u001b[49m\u001b[38;5;241;43m=\u001b[39;49m\u001b[38;5;28;43mself\u001b[39;49m\u001b[38;5;241;43m.\u001b[39;49m\u001b[43m_context\u001b[49m\u001b[43m,\u001b[49m\u001b[43m \u001b[49m\u001b[43mcheck_hostname\u001b[49m\u001b[38;5;241;43m=\u001b[39;49m\u001b[38;5;28;43mself\u001b[39;49m\u001b[38;5;241;43m.\u001b[39;49m\u001b[43m_check_hostname\u001b[49m\u001b[43m)\u001b[49m\n",
      "File \u001b[1;32m~\\anaconda3\\envs\\BKST\\lib\\urllib\\request.py:1346\u001b[0m, in \u001b[0;36mAbstractHTTPHandler.do_open\u001b[1;34m(self, http_class, req, **http_conn_args)\u001b[0m\n\u001b[0;32m   1344\u001b[0m \u001b[38;5;28;01mtry\u001b[39;00m:\n\u001b[0;32m   1345\u001b[0m     \u001b[38;5;28;01mtry\u001b[39;00m:\n\u001b[1;32m-> 1346\u001b[0m         \u001b[43mh\u001b[49m\u001b[38;5;241;43m.\u001b[39;49m\u001b[43mrequest\u001b[49m\u001b[43m(\u001b[49m\u001b[43mreq\u001b[49m\u001b[38;5;241;43m.\u001b[39;49m\u001b[43mget_method\u001b[49m\u001b[43m(\u001b[49m\u001b[43m)\u001b[49m\u001b[43m,\u001b[49m\u001b[43m \u001b[49m\u001b[43mreq\u001b[49m\u001b[38;5;241;43m.\u001b[39;49m\u001b[43mselector\u001b[49m\u001b[43m,\u001b[49m\u001b[43m \u001b[49m\u001b[43mreq\u001b[49m\u001b[38;5;241;43m.\u001b[39;49m\u001b[43mdata\u001b[49m\u001b[43m,\u001b[49m\u001b[43m \u001b[49m\u001b[43mheaders\u001b[49m\u001b[43m,\u001b[49m\n\u001b[0;32m   1347\u001b[0m \u001b[43m                  \u001b[49m\u001b[43mencode_chunked\u001b[49m\u001b[38;5;241;43m=\u001b[39;49m\u001b[43mreq\u001b[49m\u001b[38;5;241;43m.\u001b[39;49m\u001b[43mhas_header\u001b[49m\u001b[43m(\u001b[49m\u001b[38;5;124;43m'\u001b[39;49m\u001b[38;5;124;43mTransfer-encoding\u001b[39;49m\u001b[38;5;124;43m'\u001b[39;49m\u001b[43m)\u001b[49m\u001b[43m)\u001b[49m\n\u001b[0;32m   1348\u001b[0m     \u001b[38;5;28;01mexcept\u001b[39;00m \u001b[38;5;167;01mOSError\u001b[39;00m \u001b[38;5;28;01mas\u001b[39;00m err: \u001b[38;5;66;03m# timeout error\u001b[39;00m\n\u001b[0;32m   1349\u001b[0m         \u001b[38;5;28;01mraise\u001b[39;00m URLError(err)\n",
      "File \u001b[1;32m~\\anaconda3\\envs\\BKST\\lib\\http\\client.py:1285\u001b[0m, in \u001b[0;36mHTTPConnection.request\u001b[1;34m(self, method, url, body, headers, encode_chunked)\u001b[0m\n\u001b[0;32m   1282\u001b[0m \u001b[38;5;28;01mdef\u001b[39;00m \u001b[38;5;21mrequest\u001b[39m(\u001b[38;5;28mself\u001b[39m, method, url, body\u001b[38;5;241m=\u001b[39m\u001b[38;5;28;01mNone\u001b[39;00m, headers\u001b[38;5;241m=\u001b[39m{}, \u001b[38;5;241m*\u001b[39m,\n\u001b[0;32m   1283\u001b[0m             encode_chunked\u001b[38;5;241m=\u001b[39m\u001b[38;5;28;01mFalse\u001b[39;00m):\n\u001b[0;32m   1284\u001b[0m     \u001b[38;5;124;03m\"\"\"Send a complete request to the server.\"\"\"\u001b[39;00m\n\u001b[1;32m-> 1285\u001b[0m     \u001b[38;5;28;43mself\u001b[39;49m\u001b[38;5;241;43m.\u001b[39;49m\u001b[43m_send_request\u001b[49m\u001b[43m(\u001b[49m\u001b[43mmethod\u001b[49m\u001b[43m,\u001b[49m\u001b[43m \u001b[49m\u001b[43murl\u001b[49m\u001b[43m,\u001b[49m\u001b[43m \u001b[49m\u001b[43mbody\u001b[49m\u001b[43m,\u001b[49m\u001b[43m \u001b[49m\u001b[43mheaders\u001b[49m\u001b[43m,\u001b[49m\u001b[43m \u001b[49m\u001b[43mencode_chunked\u001b[49m\u001b[43m)\u001b[49m\n",
      "File \u001b[1;32m~\\anaconda3\\envs\\BKST\\lib\\http\\client.py:1296\u001b[0m, in \u001b[0;36mHTTPConnection._send_request\u001b[1;34m(self, method, url, body, headers, encode_chunked)\u001b[0m\n\u001b[0;32m   1293\u001b[0m \u001b[38;5;28;01mif\u001b[39;00m \u001b[38;5;124m'\u001b[39m\u001b[38;5;124maccept-encoding\u001b[39m\u001b[38;5;124m'\u001b[39m \u001b[38;5;129;01min\u001b[39;00m header_names:\n\u001b[0;32m   1294\u001b[0m     skips[\u001b[38;5;124m'\u001b[39m\u001b[38;5;124mskip_accept_encoding\u001b[39m\u001b[38;5;124m'\u001b[39m] \u001b[38;5;241m=\u001b[39m \u001b[38;5;241m1\u001b[39m\n\u001b[1;32m-> 1296\u001b[0m \u001b[38;5;28mself\u001b[39m\u001b[38;5;241m.\u001b[39mputrequest(method, url, \u001b[38;5;241m*\u001b[39m\u001b[38;5;241m*\u001b[39mskips)\n\u001b[0;32m   1298\u001b[0m \u001b[38;5;66;03m# chunked encoding will happen if HTTP/1.1 is used and either\u001b[39;00m\n\u001b[0;32m   1299\u001b[0m \u001b[38;5;66;03m# the caller passes encode_chunked=True or the following\u001b[39;00m\n\u001b[0;32m   1300\u001b[0m \u001b[38;5;66;03m# conditions hold:\u001b[39;00m\n\u001b[0;32m   1301\u001b[0m \u001b[38;5;66;03m# 1. content-length has not been explicitly set\u001b[39;00m\n\u001b[0;32m   1302\u001b[0m \u001b[38;5;66;03m# 2. the body is a file or iterable, but not a str or bytes-like\u001b[39;00m\n\u001b[0;32m   1303\u001b[0m \u001b[38;5;66;03m# 3. Transfer-Encoding has NOT been explicitly set by the caller\u001b[39;00m\n\u001b[0;32m   1305\u001b[0m \u001b[38;5;28;01mif\u001b[39;00m \u001b[38;5;124m'\u001b[39m\u001b[38;5;124mcontent-length\u001b[39m\u001b[38;5;124m'\u001b[39m \u001b[38;5;129;01mnot\u001b[39;00m \u001b[38;5;129;01min\u001b[39;00m header_names:\n\u001b[0;32m   1306\u001b[0m     \u001b[38;5;66;03m# only chunk body if not explicitly set for backwards\u001b[39;00m\n\u001b[0;32m   1307\u001b[0m     \u001b[38;5;66;03m# compatibility, assuming the client code is already handling the\u001b[39;00m\n\u001b[0;32m   1308\u001b[0m     \u001b[38;5;66;03m# chunking\u001b[39;00m\n",
      "File \u001b[1;32m~\\anaconda3\\envs\\BKST\\lib\\http\\client.py:1134\u001b[0m, in \u001b[0;36mHTTPConnection.putrequest\u001b[1;34m(self, method, url, skip_host, skip_accept_encoding)\u001b[0m\n\u001b[0;32m   1130\u001b[0m \u001b[38;5;28mself\u001b[39m\u001b[38;5;241m.\u001b[39m_validate_path(url)\n\u001b[0;32m   1132\u001b[0m request \u001b[38;5;241m=\u001b[39m \u001b[38;5;124m'\u001b[39m\u001b[38;5;132;01m%s\u001b[39;00m\u001b[38;5;124m \u001b[39m\u001b[38;5;132;01m%s\u001b[39;00m\u001b[38;5;124m \u001b[39m\u001b[38;5;132;01m%s\u001b[39;00m\u001b[38;5;124m'\u001b[39m \u001b[38;5;241m%\u001b[39m (method, url, \u001b[38;5;28mself\u001b[39m\u001b[38;5;241m.\u001b[39m_http_vsn_str)\n\u001b[1;32m-> 1134\u001b[0m \u001b[38;5;28mself\u001b[39m\u001b[38;5;241m.\u001b[39m_output(\u001b[38;5;28;43mself\u001b[39;49m\u001b[38;5;241;43m.\u001b[39;49m\u001b[43m_encode_request\u001b[49m\u001b[43m(\u001b[49m\u001b[43mrequest\u001b[49m\u001b[43m)\u001b[49m)\n\u001b[0;32m   1136\u001b[0m \u001b[38;5;28;01mif\u001b[39;00m \u001b[38;5;28mself\u001b[39m\u001b[38;5;241m.\u001b[39m_http_vsn \u001b[38;5;241m==\u001b[39m \u001b[38;5;241m11\u001b[39m:\n\u001b[0;32m   1137\u001b[0m     \u001b[38;5;66;03m# Issue some standard headers for better HTTP/1.1 compliance\u001b[39;00m\n\u001b[0;32m   1139\u001b[0m     \u001b[38;5;28;01mif\u001b[39;00m \u001b[38;5;129;01mnot\u001b[39;00m skip_host:\n\u001b[0;32m   1140\u001b[0m         \u001b[38;5;66;03m# this header is issued *only* for HTTP/1.1\u001b[39;00m\n\u001b[0;32m   1141\u001b[0m         \u001b[38;5;66;03m# connections. more specifically, this means it is\u001b[39;00m\n\u001b[1;32m   (...)\u001b[0m\n\u001b[0;32m   1151\u001b[0m         \u001b[38;5;66;03m# but the host of the actual URL, not the host of the\u001b[39;00m\n\u001b[0;32m   1152\u001b[0m         \u001b[38;5;66;03m# proxy.\u001b[39;00m\n",
      "File \u001b[1;32m~\\anaconda3\\envs\\BKST\\lib\\http\\client.py:1214\u001b[0m, in \u001b[0;36mHTTPConnection._encode_request\u001b[1;34m(self, request)\u001b[0m\n\u001b[0;32m   1212\u001b[0m \u001b[38;5;28;01mdef\u001b[39;00m \u001b[38;5;21m_encode_request\u001b[39m(\u001b[38;5;28mself\u001b[39m, request):\n\u001b[0;32m   1213\u001b[0m     \u001b[38;5;66;03m# ASCII also helps prevent CVE-2019-9740.\u001b[39;00m\n\u001b[1;32m-> 1214\u001b[0m     \u001b[38;5;28;01mreturn\u001b[39;00m \u001b[43mrequest\u001b[49m\u001b[38;5;241;43m.\u001b[39;49m\u001b[43mencode\u001b[49m\u001b[43m(\u001b[49m\u001b[38;5;124;43m'\u001b[39;49m\u001b[38;5;124;43mascii\u001b[39;49m\u001b[38;5;124;43m'\u001b[39;49m\u001b[43m)\u001b[49m\n",
      "\u001b[1;31mUnicodeEncodeError\u001b[0m: 'ascii' codec can't encode characters in position 81-84: ordinal not in range(128)"
     ]
    }
   ],
   "source": [
    "test = []\n",
    "test_final = []\n",
    "bk='변기'\n",
    "euc_data = bk.encode('euc-kr')\n",
    "bk2 = str(euc_data).replace(\"\\\\x\",\"%\")[2:-1]\n",
    "for i in tqdm(crawling):\n",
    "    i = re.sub(r'[ㄱ-ㅣ가-힣]',bk2, i)\n",
    "    print(i)\n",
    "    page = urlopen(i)\n",
    "    soup = BeautifulSoup(page, 'html.parser', from_encoding='cp-949')\n",
    "    a_v1 = soup.find('div', id='content', class_='articleCont')\n",
    "    b_v1 = soup.find('span', class_ = 'article_date')\n",
    "    \n",
    "    test = []\n",
    "    test.append(a_v1.text.strip(' \\t\\n\\r'))\n",
    "    test.append(b_v1.text)\n",
    "    test_final.append(test)\n",
    "    "
   ]
  },
  {
   "cell_type": "code",
   "execution_count": null,
   "id": "2e31bdbf",
   "metadata": {},
   "outputs": [],
   "source": [
    "test_final = pd.DataFrame(test_final)"
   ]
  },
  {
   "cell_type": "code",
   "execution_count": null,
   "id": "070a8c05",
   "metadata": {},
   "outputs": [],
   "source": [
    "test_final"
   ]
  }
 ],
 "metadata": {
  "kernelspec": {
   "display_name": "BKST",
   "language": "python",
   "name": "bkst"
  },
  "language_info": {
   "codemirror_mode": {
    "name": "ipython",
    "version": 3
   },
   "file_extension": ".py",
   "mimetype": "text/x-python",
   "name": "python",
   "nbconvert_exporter": "python",
   "pygments_lexer": "ipython3",
   "version": "3.9.12"
  }
 },
 "nbformat": 4,
 "nbformat_minor": 5
}
