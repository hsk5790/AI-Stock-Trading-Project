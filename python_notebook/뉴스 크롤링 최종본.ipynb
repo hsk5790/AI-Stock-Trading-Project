{
 "cells": [
  {
   "cell_type": "markdown",
   "id": "0ceb92fa",
   "metadata": {},
   "source": [
    "## 뉴스 크롤링 최종본"
   ]
  },
  {
   "cell_type": "code",
   "execution_count": 1,
   "id": "435ee8e0",
   "metadata": {},
   "outputs": [],
   "source": [
    "from bs4 import BeautifulSoup\n",
    "import requests\n",
    "import re\n",
    "import time\n",
    "from selenium import webdriver\n",
    "from selenium.webdriver.common.by import By\n",
    "from selenium.webdriver.chrome.service import Service as ChromeService\n",
    "import os\n",
    "import pandas as pd\n",
    "import urllib\n",
    "from datetime import datetime, timedelta\n",
    "from tqdm import tqdm\n",
    "import numpy as np\n",
    "import math\n",
    "from urllib.request import HTTPError\n",
    "from urllib.request import URLError"
   ]
  },
  {
   "cell_type": "code",
   "execution_count": 2,
   "id": "e2a0b723",
   "metadata": {},
   "outputs": [],
   "source": [
    "def date_range(start, end):\n",
    "    date_index = pd.date_range(start=start, end=end,freq='D')\n",
    "    # type(dt_index) => DatetimeIndex\n",
    "    # DatetimeIndex => list(str)\n",
    "    date_list = date_index.strftime(\"%Y-%m-%d\").tolist()\n",
    "    return date_list"
   ]
  },
  {
   "cell_type": "code",
   "execution_count": 3,
   "id": "0ee31268",
   "metadata": {},
   "outputs": [],
   "source": [
    "date_list = date_range('20170101','20170101')"
   ]
  },
  {
   "cell_type": "code",
   "execution_count": 15,
   "id": "d6a60391",
   "metadata": {},
   "outputs": [
    {
     "name": "stderr",
     "output_type": "stream",
     "text": [
      "\r",
      "  0%|                                                                        | 0/1 [00:00<?, ?it/s]"
     ]
    },
    {
     "name": "stdout",
     "output_type": "stream",
     "text": [
      "추출한 날짜 2017-01-01\n",
      "1\n"
     ]
    },
    {
     "name": "stderr",
     "output_type": "stream",
     "text": [
      "100%|████████████████████████████████████████████████████████████████| 1/1 [00:01<00:00,  1.34s/it]\n",
      "100%|████████████████████████████████████████████████████████████████| 5/5 [00:06<00:00,  1.28s/it]"
     ]
    },
    {
     "name": "stdout",
     "output_type": "stream",
     "text": [
      "크롤링 완료\n",
      "[5]\n",
      "[5]\n"
     ]
    },
    {
     "name": "stderr",
     "output_type": "stream",
     "text": [
      "\n"
     ]
    }
   ],
   "source": [
    "links_dt_list = []\n",
    "links_dd_list = []\n",
    "links_list = []\n",
    "links_list_tmp = []\n",
    "title_dt_list=[]\n",
    "title_dd_list=[]\n",
    "title_list = []\n",
    "title_list_tmp = []\n",
    "cont_list = []\n",
    "news_date_list = []\n",
    "cont_kor_list = []\n",
    "headers = { \"User-Agent\": \"Mozilla/5.0 (Windows NT 10.0; Win64; x64) AppleWebKit/537.36 (KHTML, like Gecko) Chrome/101.0.4951.41 Safari/537.36\" }\n",
    "q = '삼성중공업'\n",
    "try:\n",
    "    for date in tqdm(date_list):\n",
    "        time.sleep(1)\n",
    "        print('추출한 날짜',date)\n",
    "        page = 1\n",
    "        url = 'https://finance.naver.com/news/news_search.naver?rcdate=1&q={q}&x=0&y=0&sm=all.basic&pd=4&' + f'stDateStart={date}&stDateEnd={date}'\n",
    "        q_enc = urllib.parse.quote_plus(q, encoding='euc-kr')\n",
    "        url.format(q=q_enc)\n",
    "        res = requests.get(url.format(q=q_enc),headers = headers)\n",
    "        soup = BeautifulSoup(res.text, 'lxml')\n",
    "        strong = soup.find_all('strong')\n",
    "        article_num = strong[-3] # 날짜와 이름 검색 후 네이버에서 제공하는 기사 갯수를 저장 합니다 (몇개의 기사가 있는지 확인용)\n",
    "        article_num = int(re.sub(r\"[^a-zA-Z0-9]\",\"\",article_num.text))\n",
    "        page_num = math.ceil(article_num/20) + 1\n",
    "        print(page_num-1)\n",
    "        for page in range(1,page_num) :\n",
    "            url = 'https://finance.naver.com/news/news_search.naver?rcdate=1&q={q}&x=0&y=0&sm=all.basic&pd=4&' + f'stDateStart={date}&stDateEnd={date}&page={page}'\n",
    "            q_enc = urllib.parse.quote_plus(q, encoding='euc-kr')\n",
    "            url.format(q=q_enc)\n",
    "            res = requests.get(url.format(q=q_enc),headers=headers)\n",
    "            soup = BeautifulSoup(res.text, 'lxml')\n",
    "            elem_news = soup.select_one('div.newsSchResult dl.newsList')\n",
    "            news_subject_dt = elem_news.find_all('dt',{'class' : 'articleSubject'})\n",
    "            news_subject_dd = elem_news.find_all('dd',{'class' : 'articleSubject'})\n",
    "            for dt in news_subject_dt:\n",
    "                href_dt = dt.find(\"a\")[\"href\"]\n",
    "                links_dt = 'https://finance.naver.com/' + href_dt\n",
    "                links_dt_list.append(links_dt)\n",
    "                title_dt = dt.text[1:-1]\n",
    "                title_dt_list.append(title_dt)\n",
    "            for dd in news_subject_dd:\n",
    "                href_dd = dd.find(\"a\")[\"href\"]\n",
    "                links_dd = 'https://finance.naver.com/' + href_dd\n",
    "                links_dd_list.append(links_dd)\n",
    "                title_dd = dd.text[1:-1]\n",
    "                title_dd_list.append(title_dd)\n",
    "                \n",
    "            links_list_tmp = links_dt_list + links_dd_list\n",
    "            links_list.extend(links_list_tmp)\n",
    "            links_dt_list.clear()\n",
    "            links_dd_list.clear()\n",
    "            links_list_tmp.clear()\n",
    "            \n",
    "            title_list_tmp = title_dt_list + title_dd_list\n",
    "            title_list.extend(title_list_tmp)\n",
    "            title_dt_list.clear()\n",
    "            title_dd_list.clear()\n",
    "            title_list_tmp.clear()\n",
    "            \n",
    "    for url in tqdm(links_list):\n",
    "        time.sleep(1)\n",
    "        res = requests.get(url,headers=headers)\n",
    "        soup = BeautifulSoup(res.text, 'lxml')\n",
    "        news_date = soup.find('span', {'class' : 'article_date'})\n",
    "        contents = soup.find('div',{'id' : 'content'})\n",
    "        news_date_list.append(news_date.get_text())\n",
    "        if contents.find_all('p') != None:\n",
    "            p_tags = contents.find_all('p')\n",
    "            \n",
    "            for i in range(len(p_tags)):\n",
    "                contents.find('p').extract()\n",
    "            if (soup.find('div',{'class' : 'link_news'})) != None :\n",
    "                link_news = soup.find('div',{'class' : 'link_news'}).get_text(strip=True)\n",
    "            \n",
    "                cont_list.append(contents.get_text(strip=True).replace(link_news,''))\n",
    "            else :\n",
    "                cont_list.append(contents.get_text(strip=True))\n",
    "        else:\n",
    "            \n",
    "            if (soup.find('div',{'class' : 'link_news'})) != None :\n",
    "                link_news = soup.find('div',{'class' : 'link_news'}).get_text(strip=True)\n",
    "            \n",
    "                cont_list.append(contents.get_text(strip=True).replace(link_news,''))\n",
    "            else :\n",
    "                cont_list.append(contents.get_text(strip=True))\n",
    "                                     \n",
    "except (HTTPError, URLError, TypeError, AttributeError) as e :\n",
    "    print(e)\n",
    "         \n",
    "else :\n",
    "    print('크롤링 완료')\n",
    "\n",
    "for i in range(len(cont_list)):\n",
    "    cont_list[i] = str(cont_list[i])\n",
    "    content_kor_tmp = re.compile('[가-힣]+').findall(cont_list[i])\n",
    "    content_kor = ' '.join(content_kor_tmp)\n",
    "    cont_kor_list.append(content_kor)\n",
    "    \n",
    "print(np.unique(len(cont_list)))\n",
    "print(np.unique(len(cont_kor_list)))"
   ]
  },
  {
   "cell_type": "code",
   "execution_count": 2,
   "id": "289b700e",
   "metadata": {},
   "outputs": [],
   "source": [
    "# tmpaaa_list = []\n",
    "# for i in range(len(cont_list)):\n",
    "#     cont_list[i] = str(cont_list[i])\n",
    "#     aaa = re.compile('[가-힣]+').findall(cont_list[i])\n",
    "#     aaa_kor = ' '.join(aaa)\n",
    "#     tmpaaa_list.append(aaa_kor)\n",
    "# print(tmpaaa_list[0])\n",
    "# print('-------------')\n",
    "# print('-------------')\n",
    "# print(cont_kor_list[0])"
   ]
  },
  {
   "cell_type": "code",
   "execution_count": 9,
   "id": "19d540ae",
   "metadata": {},
   "outputs": [
    {
     "data": {
      "text/plain": [
       "(5, 5, 5, 5)"
      ]
     },
     "execution_count": 9,
     "metadata": {},
     "output_type": "execute_result"
    }
   ],
   "source": [
    "len(links_list),len(news_date_list),len(title_list),len(cont_list)"
   ]
  },
  {
   "cell_type": "code",
   "execution_count": 10,
   "id": "b0793399",
   "metadata": {},
   "outputs": [],
   "source": [
    "data={'link' : links_list, 'date' : news_date_list , 'title' : title_list, 'contents' : cont_list}\n",
    "df_content = pd.DataFrame(\n",
    "      data=data\n",
    ")\n",
    "data_kor={'link' : links_list, 'date' : news_date_list , 'title' : title_list, 'contents' : cont_kor_list}\n",
    "df_content_kor = pd.DataFrame(\n",
    "      data=data_kor\n",
    ")"
   ]
  },
  {
   "cell_type": "code",
   "execution_count": 11,
   "id": "2ff562d9",
   "metadata": {},
   "outputs": [
    {
     "data": {
      "text/plain": [
       "(link        0\n",
       " date        0\n",
       " title       0\n",
       " contents    0\n",
       " dtype: int64,\n",
       " link        0\n",
       " date        0\n",
       " title       0\n",
       " contents    0\n",
       " dtype: int64)"
      ]
     },
     "execution_count": 11,
     "metadata": {},
     "output_type": "execute_result"
    }
   ],
   "source": [
    "df_content.isnull().sum(), df_content_kor.isnull().sum()"
   ]
  },
  {
   "cell_type": "code",
   "execution_count": 12,
   "id": "f9273651",
   "metadata": {},
   "outputs": [
    {
     "data": {
      "text/html": [
       "<div>\n",
       "<style scoped>\n",
       "    .dataframe tbody tr th:only-of-type {\n",
       "        vertical-align: middle;\n",
       "    }\n",
       "\n",
       "    .dataframe tbody tr th {\n",
       "        vertical-align: top;\n",
       "    }\n",
       "\n",
       "    .dataframe thead th {\n",
       "        text-align: right;\n",
       "    }\n",
       "</style>\n",
       "<table border=\"1\" class=\"dataframe\">\n",
       "  <thead>\n",
       "    <tr style=\"text-align: right;\">\n",
       "      <th></th>\n",
       "      <th>link</th>\n",
       "      <th>date</th>\n",
       "      <th>title</th>\n",
       "      <th>contents</th>\n",
       "    </tr>\n",
       "  </thead>\n",
       "  <tbody>\n",
       "    <tr>\n",
       "      <th>0</th>\n",
       "      <td>https://finance.naver.com//news/news_read.nave...</td>\n",
       "      <td>2017-01-01 21:38</td>\n",
       "      <td>스러진 '마산의 골리앗'…불 꺼진 조선소 도시</td>\n",
       "      <td>&lt;앵커&gt;지금 보신 것처럼 외교와 안보가 걱정이지만, 경제도 만만치 않습니다. 우리 ...</td>\n",
       "    </tr>\n",
       "    <tr>\n",
       "      <th>1</th>\n",
       "      <td>https://finance.naver.com//news/news_read.nave...</td>\n",
       "      <td>2017-01-01 17:06</td>\n",
       "      <td>수주절벽 지속 `조선 빅3` 올 목표 수립 난항</td>\n",
       "      <td>작년 총수주액, 목표치의 17%업계, 시장 불확실성 확산 속목표치 제시 부담 분위기...</td>\n",
       "    </tr>\n",
       "    <tr>\n",
       "      <th>2</th>\n",
       "      <td>https://finance.naver.com//news/news_read.nave...</td>\n",
       "      <td>2017-01-01 14:29</td>\n",
       "      <td>[선박톡톡]엘리자베스, 인디펜던스, 을지문덕…배 이름에 담긴 의미는?</td>\n",
       "      <td>[편집자 주] 선박. 물에 떠서 사람·가축·물자를 싣고, 물 위로 이동할 수 있는 ...</td>\n",
       "    </tr>\n",
       "    <tr>\n",
       "      <th>3</th>\n",
       "      <td>https://finance.naver.com//news/news_read.nave...</td>\n",
       "      <td>2017-01-01 07:00</td>\n",
       "      <td>조선 불황 '거제상품권' 판매 뚝…시 소비진작 나선다</td>\n",
       "      <td>(거제=연합뉴스) 이경욱 기자 = 조선 불황이 강타한 경남 거제시의 '거제사랑상품권...</td>\n",
       "    </tr>\n",
       "    <tr>\n",
       "      <th>4</th>\n",
       "      <td>https://finance.naver.com//news/news_read.nave...</td>\n",
       "      <td>2017-01-01 01:51</td>\n",
       "      <td>겨냥하고 쏘면 늦는다, 일단 쏘고 겨냥하라</td>\n",
       "      <td>42%. LG경제연구원에 따르면 1995년 매출액 기준 미국 제조업 500대 기업(...</td>\n",
       "    </tr>\n",
       "  </tbody>\n",
       "</table>\n",
       "</div>"
      ],
      "text/plain": [
       "                                                link              date  \\\n",
       "0  https://finance.naver.com//news/news_read.nave...  2017-01-01 21:38   \n",
       "1  https://finance.naver.com//news/news_read.nave...  2017-01-01 17:06   \n",
       "2  https://finance.naver.com//news/news_read.nave...  2017-01-01 14:29   \n",
       "3  https://finance.naver.com//news/news_read.nave...  2017-01-01 07:00   \n",
       "4  https://finance.naver.com//news/news_read.nave...  2017-01-01 01:51   \n",
       "\n",
       "                                    title  \\\n",
       "0               스러진 '마산의 골리앗'…불 꺼진 조선소 도시   \n",
       "1              수주절벽 지속 `조선 빅3` 올 목표 수립 난항   \n",
       "2  [선박톡톡]엘리자베스, 인디펜던스, 을지문덕…배 이름에 담긴 의미는?   \n",
       "3           조선 불황 '거제상품권' 판매 뚝…시 소비진작 나선다   \n",
       "4                 겨냥하고 쏘면 늦는다, 일단 쏘고 겨냥하라   \n",
       "\n",
       "                                            contents  \n",
       "0  <앵커>지금 보신 것처럼 외교와 안보가 걱정이지만, 경제도 만만치 않습니다. 우리 ...  \n",
       "1  작년 총수주액, 목표치의 17%업계, 시장 불확실성 확산 속목표치 제시 부담 분위기...  \n",
       "2  [편집자 주] 선박. 물에 떠서 사람·가축·물자를 싣고, 물 위로 이동할 수 있는 ...  \n",
       "3  (거제=연합뉴스) 이경욱 기자 = 조선 불황이 강타한 경남 거제시의 '거제사랑상품권...  \n",
       "4  42%. LG경제연구원에 따르면 1995년 매출액 기준 미국 제조업 500대 기업(...  "
      ]
     },
     "execution_count": 12,
     "metadata": {},
     "output_type": "execute_result"
    }
   ],
   "source": [
    "df_content"
   ]
  },
  {
   "cell_type": "code",
   "execution_count": 13,
   "id": "be613ecb",
   "metadata": {},
   "outputs": [
    {
     "data": {
      "text/html": [
       "<div>\n",
       "<style scoped>\n",
       "    .dataframe tbody tr th:only-of-type {\n",
       "        vertical-align: middle;\n",
       "    }\n",
       "\n",
       "    .dataframe tbody tr th {\n",
       "        vertical-align: top;\n",
       "    }\n",
       "\n",
       "    .dataframe thead th {\n",
       "        text-align: right;\n",
       "    }\n",
       "</style>\n",
       "<table border=\"1\" class=\"dataframe\">\n",
       "  <thead>\n",
       "    <tr style=\"text-align: right;\">\n",
       "      <th></th>\n",
       "      <th>link</th>\n",
       "      <th>date</th>\n",
       "      <th>title</th>\n",
       "      <th>contents</th>\n",
       "    </tr>\n",
       "  </thead>\n",
       "  <tbody>\n",
       "    <tr>\n",
       "      <th>0</th>\n",
       "      <td>https://finance.naver.com//news/news_read.nave...</td>\n",
       "      <td>2017-01-01 21:38</td>\n",
       "      <td>스러진 '마산의 골리앗'…불 꺼진 조선소 도시</td>\n",
       "      <td>앵커 지금 보신 것처럼 외교와 안보가 걱정이지만 경제도 만만치 않습니다 우리 경제의...</td>\n",
       "    </tr>\n",
       "    <tr>\n",
       "      <th>1</th>\n",
       "      <td>https://finance.naver.com//news/news_read.nave...</td>\n",
       "      <td>2017-01-01 17:06</td>\n",
       "      <td>수주절벽 지속 `조선 빅3` 올 목표 수립 난항</td>\n",
       "      <td>작년 총수주액 목표치의 업계 시장 불확실성 확산 속목표치 제시 부담 분위기현대중공업...</td>\n",
       "    </tr>\n",
       "    <tr>\n",
       "      <th>2</th>\n",
       "      <td>https://finance.naver.com//news/news_read.nave...</td>\n",
       "      <td>2017-01-01 14:29</td>\n",
       "      <td>[선박톡톡]엘리자베스, 인디펜던스, 을지문덕…배 이름에 담긴 의미는?</td>\n",
       "      <td>편집자 주 선박 물에 떠서 사람 가축 물자를 싣고 물 위로 이동할 수 있는 구조물을...</td>\n",
       "    </tr>\n",
       "    <tr>\n",
       "      <th>3</th>\n",
       "      <td>https://finance.naver.com//news/news_read.nave...</td>\n",
       "      <td>2017-01-01 07:00</td>\n",
       "      <td>조선 불황 '거제상품권' 판매 뚝…시 소비진작 나선다</td>\n",
       "      <td>거제 연합뉴스 이경욱 기자 조선 불황이 강타한 경남 거제시의 거제사랑상품권 판매량이...</td>\n",
       "    </tr>\n",
       "    <tr>\n",
       "      <th>4</th>\n",
       "      <td>https://finance.naver.com//news/news_read.nave...</td>\n",
       "      <td>2017-01-01 01:51</td>\n",
       "      <td>겨냥하고 쏘면 늦는다, 일단 쏘고 겨냥하라</td>\n",
       "      <td>경제연구원에 따르면 년 매출액 기준 미국 제조업 대 기업 포춘 선정 중 년 후인 년...</td>\n",
       "    </tr>\n",
       "  </tbody>\n",
       "</table>\n",
       "</div>"
      ],
      "text/plain": [
       "                                                link              date  \\\n",
       "0  https://finance.naver.com//news/news_read.nave...  2017-01-01 21:38   \n",
       "1  https://finance.naver.com//news/news_read.nave...  2017-01-01 17:06   \n",
       "2  https://finance.naver.com//news/news_read.nave...  2017-01-01 14:29   \n",
       "3  https://finance.naver.com//news/news_read.nave...  2017-01-01 07:00   \n",
       "4  https://finance.naver.com//news/news_read.nave...  2017-01-01 01:51   \n",
       "\n",
       "                                    title  \\\n",
       "0               스러진 '마산의 골리앗'…불 꺼진 조선소 도시   \n",
       "1              수주절벽 지속 `조선 빅3` 올 목표 수립 난항   \n",
       "2  [선박톡톡]엘리자베스, 인디펜던스, 을지문덕…배 이름에 담긴 의미는?   \n",
       "3           조선 불황 '거제상품권' 판매 뚝…시 소비진작 나선다   \n",
       "4                 겨냥하고 쏘면 늦는다, 일단 쏘고 겨냥하라   \n",
       "\n",
       "                                            contents  \n",
       "0  앵커 지금 보신 것처럼 외교와 안보가 걱정이지만 경제도 만만치 않습니다 우리 경제의...  \n",
       "1  작년 총수주액 목표치의 업계 시장 불확실성 확산 속목표치 제시 부담 분위기현대중공업...  \n",
       "2  편집자 주 선박 물에 떠서 사람 가축 물자를 싣고 물 위로 이동할 수 있는 구조물을...  \n",
       "3  거제 연합뉴스 이경욱 기자 조선 불황이 강타한 경남 거제시의 거제사랑상품권 판매량이...  \n",
       "4  경제연구원에 따르면 년 매출액 기준 미국 제조업 대 기업 포춘 선정 중 년 후인 년...  "
      ]
     },
     "execution_count": 13,
     "metadata": {},
     "output_type": "execute_result"
    }
   ],
   "source": [
    "df_content_kor"
   ]
  },
  {
   "cell_type": "code",
   "execution_count": null,
   "id": "43d0cf24",
   "metadata": {},
   "outputs": [],
   "source": [
    "df_content.to_csv('df_content.csv',encoding='utf-8-sig')"
   ]
  },
  {
   "cell_type": "code",
   "execution_count": null,
   "id": "90a94620",
   "metadata": {},
   "outputs": [],
   "source": [
    "df_content_kor.to_csv('df_content.csv',encoding='utf-8-sig')"
   ]
  },
  {
   "cell_type": "code",
   "execution_count": null,
   "id": "b4365899",
   "metadata": {},
   "outputs": [],
   "source": []
  },
  {
   "cell_type": "code",
   "execution_count": null,
   "id": "2c425fb0",
   "metadata": {},
   "outputs": [],
   "source": []
  },
  {
   "cell_type": "code",
   "execution_count": null,
   "id": "7206f281",
   "metadata": {},
   "outputs": [],
   "source": []
  },
  {
   "cell_type": "code",
   "execution_count": null,
   "id": "6b9915e4",
   "metadata": {},
   "outputs": [],
   "source": []
  },
  {
   "cell_type": "code",
   "execution_count": null,
   "id": "33a3b79b",
   "metadata": {},
   "outputs": [],
   "source": []
  },
  {
   "cell_type": "code",
   "execution_count": null,
   "id": "e2d61df9",
   "metadata": {},
   "outputs": [],
   "source": []
  },
  {
   "cell_type": "code",
   "execution_count": null,
   "id": "0a1a7cb0",
   "metadata": {},
   "outputs": [],
   "source": []
  },
  {
   "cell_type": "code",
   "execution_count": null,
   "id": "82afcd34",
   "metadata": {},
   "outputs": [],
   "source": []
  },
  {
   "cell_type": "code",
   "execution_count": null,
   "id": "dd147f1b",
   "metadata": {},
   "outputs": [],
   "source": []
  },
  {
   "cell_type": "code",
   "execution_count": null,
   "id": "2291c649",
   "metadata": {},
   "outputs": [],
   "source": []
  },
  {
   "cell_type": "code",
   "execution_count": null,
   "id": "2187bda7",
   "metadata": {},
   "outputs": [],
   "source": []
  },
  {
   "cell_type": "code",
   "execution_count": null,
   "id": "5b5fe1a5",
   "metadata": {},
   "outputs": [],
   "source": []
  }
 ],
 "metadata": {
  "kernelspec": {
   "display_name": "BKST",
   "language": "python",
   "name": "bkst"
  },
  "language_info": {
   "codemirror_mode": {
    "name": "ipython",
    "version": 3
   },
   "file_extension": ".py",
   "mimetype": "text/x-python",
   "name": "python",
   "nbconvert_exporter": "python",
   "pygments_lexer": "ipython3",
   "version": "3.8.13"
  }
 },
 "nbformat": 4,
 "nbformat_minor": 5
}
