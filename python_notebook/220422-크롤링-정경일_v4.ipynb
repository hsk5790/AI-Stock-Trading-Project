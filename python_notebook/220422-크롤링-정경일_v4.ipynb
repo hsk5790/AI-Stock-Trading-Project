{
 "cells": [
  {
   "cell_type": "code",
   "execution_count": 3,
   "id": "3ad59592",
   "metadata": {
    "scrolled": true
   },
   "outputs": [
    {
     "name": "stderr",
     "output_type": "stream",
     "text": [
      "C:\\Users\\jki01\\AppData\\Local\\Temp\\ipykernel_27464\\3500952992.py:9: DeprecationWarning: Importing display from IPython.core.display is deprecated since IPython 7.14, please import from IPython display\n",
      "  from IPython.core.display import display, HTML\n"
     ]
    },
    {
     "data": {
      "text/html": [
       "<style>.container { width:100% !important; }</style>"
      ],
      "text/plain": [
       "<IPython.core.display.HTML object>"
      ]
     },
     "metadata": {},
     "output_type": "display_data"
    }
   ],
   "source": [
    "import json\n",
    "import os\n",
    "import pandas as pd\n",
    "import numpy as np\n",
    "from bs4 import BeautifulSoup\n",
    "import re\n",
    "import requests\n",
    "from webob.compat import urlparse\n",
    "from IPython.core.display import display, HTML \n",
    "display(HTML(\"<style>.container { width:100% !important; }</style>\"))\n",
    "from tqdm import notebook\n",
    "import math\n",
    "from urllib.request import urlopen\n",
    "from tqdm import tqdm\n",
    "import time\n",
    "pd.options.display.max_colwidth = None"
   ]
  },
  {
   "cell_type": "code",
   "execution_count": 4,
   "id": "2fe9b63e",
   "metadata": {},
   "outputs": [],
   "source": [
    "def craw():\n",
    "    \n",
    "    news = bs.find_all('dl', {'class' : 'newsList'})\n",
    "    \n",
    "    news_list = []\n",
    "    news_list_2 = []\n",
    "    title_list = []\n",
    "    title_list_2 = []\n",
    "    url_list = []\n",
    "    url_list_2 = []\n",
    "    \n",
    "    for new in news:\n",
    "        title = new.find_all('dt',{'class' : 'articleSubject'})\n",
    "        title_2 = new.find_all('dd',{'class' : 'articleSubject'})\n",
    "        date_time = new.find_all('dd',{'class' : 'articleSummary'})\n",
    "    \n",
    "        for dt in title:\n",
    "            dd = dt.text[1:-1]\n",
    "            link = dt.find(\"a\")[\"href\"]\n",
    "            article_url = 'https://finance.naver.com/' + link\n",
    "\n",
    "#             text_list = [dd, article_url]\n",
    "            url_list.append(article_url)\n",
    "            title_list.append(dd)\n",
    "#             news_list.append(text_list)\n",
    "\n",
    "\n",
    "        for oo in title_2:\n",
    "    #         title.append(new.text[1:-1])\n",
    "            article_title = oo.text[1:-1]\n",
    "            link = oo.find(\"a\")[\"href\"]\n",
    "            article_url = 'https://finance.naver.com/' + link\n",
    "\n",
    "            text_list = [article_title, article_url]\n",
    "            url_list_2.append(article_url)\n",
    "            title_list_2.append(article_title)\n",
    "#             news_list_2.append(text_list) \n",
    "        \n",
    "        url_result = [url_list, url_list_2]\n",
    "        title_result = [title_list, title_list_2]\n",
    "    return url_result, title_result"
   ]
  },
  {
   "cell_type": "code",
   "execution_count": 5,
   "id": "f8ca6028",
   "metadata": {
    "scrolled": false
   },
   "outputs": [
    {
     "name": "stdout",
     "output_type": "stream",
     "text": [
      "6920\n"
     ]
    },
    {
     "data": {
      "text/html": [
       "<div>\n",
       "<style scoped>\n",
       "    .dataframe tbody tr th:only-of-type {\n",
       "        vertical-align: middle;\n",
       "    }\n",
       "\n",
       "    .dataframe tbody tr th {\n",
       "        vertical-align: top;\n",
       "    }\n",
       "\n",
       "    .dataframe thead th {\n",
       "        text-align: right;\n",
       "    }\n",
       "</style>\n",
       "<table border=\"1\" class=\"dataframe\">\n",
       "  <thead>\n",
       "    <tr style=\"text-align: right;\">\n",
       "      <th></th>\n",
       "      <th>0</th>\n",
       "      <th>1</th>\n",
       "    </tr>\n",
       "  </thead>\n",
       "  <tbody>\n",
       "    <tr>\n",
       "      <th>0</th>\n",
       "      <td>https://finance.naver.com//news/news_read.naver?article_id=0000356944&amp;office_id=448&amp;mode=search&amp;query=변기&amp;page=1</td>\n",
       "      <td>납품업체 교체 놓고도 갈등…\"조합 갑질' vs \"고급화 차원\"</td>\n",
       "    </tr>\n",
       "    <tr>\n",
       "      <th>1</th>\n",
       "      <td>https://finance.naver.com//news/news_read.naver?article_id=0005187814&amp;office_id=018&amp;mode=search&amp;query=변기&amp;page=1</td>\n",
       "      <td>[미리보는 이데일리 신문]尹정부, 공급 틀어막던 고분양가심사제 손본다</td>\n",
       "    </tr>\n",
       "    <tr>\n",
       "      <th>2</th>\n",
       "      <td>https://finance.naver.com//news/news_read.naver?article_id=0004736180&amp;office_id=008&amp;mode=search&amp;query=변기&amp;page=1</td>\n",
       "      <td>바스템, 2022 소비자가 뽑은 서비스고객만족대상 수상</td>\n",
       "    </tr>\n",
       "    <tr>\n",
       "      <th>3</th>\n",
       "      <td>https://finance.naver.com//news/news_read.naver?article_id=0013129818&amp;office_id=001&amp;mode=search&amp;query=변기&amp;page=1</td>\n",
       "      <td>[서산소식] 상공회의소, 1천만원 상당 어르신 안전용품 기탁</td>\n",
       "    </tr>\n",
       "    <tr>\n",
       "      <th>4</th>\n",
       "      <td>https://finance.naver.com//news/news_read.naver?article_id=0000804687&amp;office_id=417&amp;mode=search&amp;query=변기&amp;page=1</td>\n",
       "      <td>[르포] 서울 역사·문화·관광 최고의 명소 꿈꾼다… '세운블록' 미래는?</td>\n",
       "    </tr>\n",
       "    <tr>\n",
       "      <th>...</th>\n",
       "      <td>...</td>\n",
       "      <td>...</td>\n",
       "    </tr>\n",
       "    <tr>\n",
       "      <th>6915</th>\n",
       "      <td>https://finance.naver.com//news/news_read.naver?article_id=0003465550&amp;office_id=008&amp;mode=search&amp;query=변기&amp;page=200</td>\n",
       "      <td>서울시, 하반기중 노후주택 50가구에 리모델링비용 지원</td>\n",
       "    </tr>\n",
       "    <tr>\n",
       "      <th>6916</th>\n",
       "      <td>https://finance.naver.com//news/news_read.naver?article_id=0003491552&amp;office_id=277&amp;mode=search&amp;query=변기&amp;page=200</td>\n",
       "      <td>리모델링형 장기안심주택, 월세 추가·보증금 6년 동결</td>\n",
       "    </tr>\n",
       "    <tr>\n",
       "      <th>6917</th>\n",
       "      <td>https://finance.naver.com//news/news_read.naver?article_id=0003476061&amp;office_id=009&amp;mode=search&amp;query=변기&amp;page=200</td>\n",
       "      <td>헨켈홈케어코리아, ‘브레프 듀오액티브’ 출시</td>\n",
       "    </tr>\n",
       "    <tr>\n",
       "      <th>6918</th>\n",
       "      <td>https://finance.naver.com//news/news_read.naver?article_id=0002087448&amp;office_id=047&amp;mode=search&amp;query=변기&amp;page=200</td>\n",
       "      <td>한달에 13만원짜리 집, 제가 살아봤습니다</td>\n",
       "    </tr>\n",
       "    <tr>\n",
       "      <th>6919</th>\n",
       "      <td>https://finance.naver.com//news/news_read.naver?article_id=0000265166&amp;office_id=366&amp;mode=search&amp;query=변기&amp;page=200</td>\n",
       "      <td>BC카드, 플라스틱카드 필요없는 모바일카드 5월 출시</td>\n",
       "    </tr>\n",
       "  </tbody>\n",
       "</table>\n",
       "<p>6920 rows × 2 columns</p>\n",
       "</div>"
      ],
      "text/plain": [
       "                                                                                                                      0  \\\n",
       "0       https://finance.naver.com//news/news_read.naver?article_id=0000356944&office_id=448&mode=search&query=변기&page=1   \n",
       "1       https://finance.naver.com//news/news_read.naver?article_id=0005187814&office_id=018&mode=search&query=변기&page=1   \n",
       "2       https://finance.naver.com//news/news_read.naver?article_id=0004736180&office_id=008&mode=search&query=변기&page=1   \n",
       "3       https://finance.naver.com//news/news_read.naver?article_id=0013129818&office_id=001&mode=search&query=변기&page=1   \n",
       "4       https://finance.naver.com//news/news_read.naver?article_id=0000804687&office_id=417&mode=search&query=변기&page=1   \n",
       "...                                                                                                                 ...   \n",
       "6915  https://finance.naver.com//news/news_read.naver?article_id=0003465550&office_id=008&mode=search&query=변기&page=200   \n",
       "6916  https://finance.naver.com//news/news_read.naver?article_id=0003491552&office_id=277&mode=search&query=변기&page=200   \n",
       "6917  https://finance.naver.com//news/news_read.naver?article_id=0003476061&office_id=009&mode=search&query=변기&page=200   \n",
       "6918  https://finance.naver.com//news/news_read.naver?article_id=0002087448&office_id=047&mode=search&query=변기&page=200   \n",
       "6919  https://finance.naver.com//news/news_read.naver?article_id=0000265166&office_id=366&mode=search&query=변기&page=200   \n",
       "\n",
       "                                             1  \n",
       "0           납품업체 교체 놓고도 갈등…\"조합 갑질' vs \"고급화 차원\"  \n",
       "1       [미리보는 이데일리 신문]尹정부, 공급 틀어막던 고분양가심사제 손본다  \n",
       "2               바스템, 2022 소비자가 뽑은 서비스고객만족대상 수상  \n",
       "3            [서산소식] 상공회의소, 1천만원 상당 어르신 안전용품 기탁  \n",
       "4     [르포] 서울 역사·문화·관광 최고의 명소 꿈꾼다… '세운블록' 미래는?  \n",
       "...                                        ...  \n",
       "6915            서울시, 하반기중 노후주택 50가구에 리모델링비용 지원  \n",
       "6916             리모델링형 장기안심주택, 월세 추가·보증금 6년 동결  \n",
       "6917                  헨켈홈케어코리아, ‘브레프 듀오액티브’ 출시  \n",
       "6918                   한달에 13만원짜리 집, 제가 살아봤습니다  \n",
       "6919             BC카드, 플라스틱카드 필요없는 모바일카드 5월 출시  \n",
       "\n",
       "[6920 rows x 2 columns]"
      ]
     },
     "execution_count": 5,
     "metadata": {},
     "output_type": "execute_result"
    }
   ],
   "source": [
    "# 검색, 시작날짜, 종료날짜\n",
    "search = \"변기\"\n",
    "stDateStart= \"2021-06-20\"\n",
    "stDateEnd= \"2021-07-20\"\n",
    "#검색어 인코딩\n",
    "euc_data = search.encode('euc-kr')\n",
    "tmp = str(euc_data).replace(\"\\\\x\",\"%\")[2:-1]\n",
    "\n",
    "#여러 페이지 크롤링\n",
    "hh = []\n",
    "page = 1\n",
    "url = f\"https://finance.naver.com/news/news_search.nhn?rcdate=&q={tmp}\\\n",
    "    &x=5&y=7&sm=all.basic&pd=1&{stDateStart}&{stDateEnd}&page={page}\"\n",
    "\n",
    "req = requests.get(url)\n",
    "bs = BeautifulSoup(req.content, \"html.parser\")\n",
    "\n",
    "strong = bs.find_all('strong')\n",
    "article_num = strong[-3]\n",
    "article_num = int(re.sub(r\"[^a-zA-Z0-9]\",\"\",article_num.text))\n",
    "i = math.ceil(article_num/20)\n",
    "\n",
    "tmp3 = []\n",
    "print(article_num)\n",
    "i += 1\n",
    "\n",
    "for page in range(1,i):\n",
    "    url = f\"https://finance.naver.com/news/news_search.nhn?rcdate=&q={tmp}\\\n",
    "        &x=5&y=7&sm=all.basic&pd=1&{stDateStart}&{stDateEnd}&page={page}\"\n",
    "    \n",
    "    req = requests.get(url)\n",
    "    bs = BeautifulSoup(req.content, \"html.parser\")\n",
    "    \n",
    "    # 기사 갯수 파악 후 for문 범위 정하기\n",
    "    \n",
    "    \n",
    "    url_list, title_list = craw()\n",
    "\n",
    "    url_list = [y for x in url_list for y in x]\n",
    "    title_list = [y for x in title_list for y in x]\n",
    "    \n",
    "\n",
    "    for j in range(len(url_list)):\n",
    "        tmp2 = []\n",
    "        tmp2.append(url_list[j])\n",
    "        tmp2.append(title_list[j])\n",
    "        tmp3.append(tmp2)\n",
    "#     print(url)\n",
    "tmp3 = pd.DataFrame(tmp3)\n",
    "tmp3"
   ]
  },
  {
   "cell_type": "code",
   "execution_count": 6,
   "id": "9a43ad40",
   "metadata": {},
   "outputs": [],
   "source": [
    "tmp3.to_csv('news_sample.csv')"
   ]
  },
  {
   "cell_type": "code",
   "execution_count": 7,
   "id": "cc23dbb3",
   "metadata": {},
   "outputs": [],
   "source": [
    "test_samples = pd.read_csv('news_sample.csv', encoding='utf-8')"
   ]
  },
  {
   "cell_type": "code",
   "execution_count": 8,
   "id": "12faedc2",
   "metadata": {},
   "outputs": [],
   "source": [
    "crawling = test_samples['0']"
   ]
  },
  {
   "cell_type": "code",
   "execution_count": 12,
   "id": "a27ab5ef",
   "metadata": {},
   "outputs": [
    {
     "name": "stderr",
     "output_type": "stream",
     "text": [
      "  5%|███▉                                                                           | 346/6920 [01:34<29:57,  3.66it/s]\n"
     ]
    },
    {
     "ename": "KeyboardInterrupt",
     "evalue": "",
     "output_type": "error",
     "traceback": [
      "\u001b[1;31m---------------------------------------------------------------------------\u001b[0m",
      "\u001b[1;31mKeyboardInterrupt\u001b[0m                         Traceback (most recent call last)",
      "Input \u001b[1;32mIn [12]\u001b[0m, in \u001b[0;36m<cell line: 6>\u001b[1;34m()\u001b[0m\n\u001b[0;32m     13\u001b[0m     i \u001b[38;5;241m=\u001b[39m re\u001b[38;5;241m.\u001b[39msub(\u001b[38;5;124mr\u001b[39m\u001b[38;5;124m'\u001b[39m\u001b[38;5;124m[ㄱ-ㅣ가-힣]\u001b[39m\u001b[38;5;124m'\u001b[39m,bk2, i)\n\u001b[0;32m     14\u001b[0m \u001b[38;5;66;03m#     print(i)\u001b[39;00m\n\u001b[1;32m---> 15\u001b[0m     page \u001b[38;5;241m=\u001b[39m \u001b[43murlopen\u001b[49m\u001b[43m(\u001b[49m\u001b[43mi\u001b[49m\u001b[43m)\u001b[49m\n\u001b[0;32m     16\u001b[0m     soup \u001b[38;5;241m=\u001b[39m BeautifulSoup(page, \u001b[38;5;124m'\u001b[39m\u001b[38;5;124mhtml.parser\u001b[39m\u001b[38;5;124m'\u001b[39m, from_encoding\u001b[38;5;241m=\u001b[39m\u001b[38;5;124m'\u001b[39m\u001b[38;5;124mcp-949\u001b[39m\u001b[38;5;124m'\u001b[39m)\n\u001b[0;32m     17\u001b[0m \u001b[38;5;66;03m#     print(soup)\u001b[39;00m\n",
      "File \u001b[1;32m~\\anaconda3\\lib\\urllib\\request.py:214\u001b[0m, in \u001b[0;36murlopen\u001b[1;34m(url, data, timeout, cafile, capath, cadefault, context)\u001b[0m\n\u001b[0;32m    212\u001b[0m \u001b[38;5;28;01melse\u001b[39;00m:\n\u001b[0;32m    213\u001b[0m     opener \u001b[38;5;241m=\u001b[39m _opener\n\u001b[1;32m--> 214\u001b[0m \u001b[38;5;28;01mreturn\u001b[39;00m \u001b[43mopener\u001b[49m\u001b[38;5;241;43m.\u001b[39;49m\u001b[43mopen\u001b[49m\u001b[43m(\u001b[49m\u001b[43murl\u001b[49m\u001b[43m,\u001b[49m\u001b[43m \u001b[49m\u001b[43mdata\u001b[49m\u001b[43m,\u001b[49m\u001b[43m \u001b[49m\u001b[43mtimeout\u001b[49m\u001b[43m)\u001b[49m\n",
      "File \u001b[1;32m~\\anaconda3\\lib\\urllib\\request.py:517\u001b[0m, in \u001b[0;36mOpenerDirector.open\u001b[1;34m(self, fullurl, data, timeout)\u001b[0m\n\u001b[0;32m    514\u001b[0m     req \u001b[38;5;241m=\u001b[39m meth(req)\n\u001b[0;32m    516\u001b[0m sys\u001b[38;5;241m.\u001b[39maudit(\u001b[38;5;124m'\u001b[39m\u001b[38;5;124murllib.Request\u001b[39m\u001b[38;5;124m'\u001b[39m, req\u001b[38;5;241m.\u001b[39mfull_url, req\u001b[38;5;241m.\u001b[39mdata, req\u001b[38;5;241m.\u001b[39mheaders, req\u001b[38;5;241m.\u001b[39mget_method())\n\u001b[1;32m--> 517\u001b[0m response \u001b[38;5;241m=\u001b[39m \u001b[38;5;28;43mself\u001b[39;49m\u001b[38;5;241;43m.\u001b[39;49m\u001b[43m_open\u001b[49m\u001b[43m(\u001b[49m\u001b[43mreq\u001b[49m\u001b[43m,\u001b[49m\u001b[43m \u001b[49m\u001b[43mdata\u001b[49m\u001b[43m)\u001b[49m\n\u001b[0;32m    519\u001b[0m \u001b[38;5;66;03m# post-process response\u001b[39;00m\n\u001b[0;32m    520\u001b[0m meth_name \u001b[38;5;241m=\u001b[39m protocol\u001b[38;5;241m+\u001b[39m\u001b[38;5;124m\"\u001b[39m\u001b[38;5;124m_response\u001b[39m\u001b[38;5;124m\"\u001b[39m\n",
      "File \u001b[1;32m~\\anaconda3\\lib\\urllib\\request.py:534\u001b[0m, in \u001b[0;36mOpenerDirector._open\u001b[1;34m(self, req, data)\u001b[0m\n\u001b[0;32m    531\u001b[0m     \u001b[38;5;28;01mreturn\u001b[39;00m result\n\u001b[0;32m    533\u001b[0m protocol \u001b[38;5;241m=\u001b[39m req\u001b[38;5;241m.\u001b[39mtype\n\u001b[1;32m--> 534\u001b[0m result \u001b[38;5;241m=\u001b[39m \u001b[38;5;28;43mself\u001b[39;49m\u001b[38;5;241;43m.\u001b[39;49m\u001b[43m_call_chain\u001b[49m\u001b[43m(\u001b[49m\u001b[38;5;28;43mself\u001b[39;49m\u001b[38;5;241;43m.\u001b[39;49m\u001b[43mhandle_open\u001b[49m\u001b[43m,\u001b[49m\u001b[43m \u001b[49m\u001b[43mprotocol\u001b[49m\u001b[43m,\u001b[49m\u001b[43m \u001b[49m\u001b[43mprotocol\u001b[49m\u001b[43m \u001b[49m\u001b[38;5;241;43m+\u001b[39;49m\n\u001b[0;32m    535\u001b[0m \u001b[43m                          \u001b[49m\u001b[38;5;124;43m'\u001b[39;49m\u001b[38;5;124;43m_open\u001b[39;49m\u001b[38;5;124;43m'\u001b[39;49m\u001b[43m,\u001b[49m\u001b[43m \u001b[49m\u001b[43mreq\u001b[49m\u001b[43m)\u001b[49m\n\u001b[0;32m    536\u001b[0m \u001b[38;5;28;01mif\u001b[39;00m result:\n\u001b[0;32m    537\u001b[0m     \u001b[38;5;28;01mreturn\u001b[39;00m result\n",
      "File \u001b[1;32m~\\anaconda3\\lib\\urllib\\request.py:494\u001b[0m, in \u001b[0;36mOpenerDirector._call_chain\u001b[1;34m(self, chain, kind, meth_name, *args)\u001b[0m\n\u001b[0;32m    492\u001b[0m \u001b[38;5;28;01mfor\u001b[39;00m handler \u001b[38;5;129;01min\u001b[39;00m handlers:\n\u001b[0;32m    493\u001b[0m     func \u001b[38;5;241m=\u001b[39m \u001b[38;5;28mgetattr\u001b[39m(handler, meth_name)\n\u001b[1;32m--> 494\u001b[0m     result \u001b[38;5;241m=\u001b[39m \u001b[43mfunc\u001b[49m\u001b[43m(\u001b[49m\u001b[38;5;241;43m*\u001b[39;49m\u001b[43margs\u001b[49m\u001b[43m)\u001b[49m\n\u001b[0;32m    495\u001b[0m     \u001b[38;5;28;01mif\u001b[39;00m result \u001b[38;5;129;01mis\u001b[39;00m \u001b[38;5;129;01mnot\u001b[39;00m \u001b[38;5;28;01mNone\u001b[39;00m:\n\u001b[0;32m    496\u001b[0m         \u001b[38;5;28;01mreturn\u001b[39;00m result\n",
      "File \u001b[1;32m~\\anaconda3\\lib\\urllib\\request.py:1389\u001b[0m, in \u001b[0;36mHTTPSHandler.https_open\u001b[1;34m(self, req)\u001b[0m\n\u001b[0;32m   1388\u001b[0m \u001b[38;5;28;01mdef\u001b[39;00m \u001b[38;5;21mhttps_open\u001b[39m(\u001b[38;5;28mself\u001b[39m, req):\n\u001b[1;32m-> 1389\u001b[0m     \u001b[38;5;28;01mreturn\u001b[39;00m \u001b[38;5;28;43mself\u001b[39;49m\u001b[38;5;241;43m.\u001b[39;49m\u001b[43mdo_open\u001b[49m\u001b[43m(\u001b[49m\u001b[43mhttp\u001b[49m\u001b[38;5;241;43m.\u001b[39;49m\u001b[43mclient\u001b[49m\u001b[38;5;241;43m.\u001b[39;49m\u001b[43mHTTPSConnection\u001b[49m\u001b[43m,\u001b[49m\u001b[43m \u001b[49m\u001b[43mreq\u001b[49m\u001b[43m,\u001b[49m\n\u001b[0;32m   1390\u001b[0m \u001b[43m        \u001b[49m\u001b[43mcontext\u001b[49m\u001b[38;5;241;43m=\u001b[39;49m\u001b[38;5;28;43mself\u001b[39;49m\u001b[38;5;241;43m.\u001b[39;49m\u001b[43m_context\u001b[49m\u001b[43m,\u001b[49m\u001b[43m \u001b[49m\u001b[43mcheck_hostname\u001b[49m\u001b[38;5;241;43m=\u001b[39;49m\u001b[38;5;28;43mself\u001b[39;49m\u001b[38;5;241;43m.\u001b[39;49m\u001b[43m_check_hostname\u001b[49m\u001b[43m)\u001b[49m\n",
      "File \u001b[1;32m~\\anaconda3\\lib\\urllib\\request.py:1350\u001b[0m, in \u001b[0;36mAbstractHTTPHandler.do_open\u001b[1;34m(self, http_class, req, **http_conn_args)\u001b[0m\n\u001b[0;32m   1348\u001b[0m     \u001b[38;5;28;01mexcept\u001b[39;00m \u001b[38;5;167;01mOSError\u001b[39;00m \u001b[38;5;28;01mas\u001b[39;00m err: \u001b[38;5;66;03m# timeout error\u001b[39;00m\n\u001b[0;32m   1349\u001b[0m         \u001b[38;5;28;01mraise\u001b[39;00m URLError(err)\n\u001b[1;32m-> 1350\u001b[0m     r \u001b[38;5;241m=\u001b[39m \u001b[43mh\u001b[49m\u001b[38;5;241;43m.\u001b[39;49m\u001b[43mgetresponse\u001b[49m\u001b[43m(\u001b[49m\u001b[43m)\u001b[49m\n\u001b[0;32m   1351\u001b[0m \u001b[38;5;28;01mexcept\u001b[39;00m:\n\u001b[0;32m   1352\u001b[0m     h\u001b[38;5;241m.\u001b[39mclose()\n",
      "File \u001b[1;32m~\\anaconda3\\lib\\http\\client.py:1371\u001b[0m, in \u001b[0;36mHTTPConnection.getresponse\u001b[1;34m(self)\u001b[0m\n\u001b[0;32m   1369\u001b[0m \u001b[38;5;28;01mtry\u001b[39;00m:\n\u001b[0;32m   1370\u001b[0m     \u001b[38;5;28;01mtry\u001b[39;00m:\n\u001b[1;32m-> 1371\u001b[0m         \u001b[43mresponse\u001b[49m\u001b[38;5;241;43m.\u001b[39;49m\u001b[43mbegin\u001b[49m\u001b[43m(\u001b[49m\u001b[43m)\u001b[49m\n\u001b[0;32m   1372\u001b[0m     \u001b[38;5;28;01mexcept\u001b[39;00m \u001b[38;5;167;01mConnectionError\u001b[39;00m:\n\u001b[0;32m   1373\u001b[0m         \u001b[38;5;28mself\u001b[39m\u001b[38;5;241m.\u001b[39mclose()\n",
      "File \u001b[1;32m~\\anaconda3\\lib\\http\\client.py:319\u001b[0m, in \u001b[0;36mHTTPResponse.begin\u001b[1;34m(self)\u001b[0m\n\u001b[0;32m    317\u001b[0m \u001b[38;5;66;03m# read until we get a non-100 response\u001b[39;00m\n\u001b[0;32m    318\u001b[0m \u001b[38;5;28;01mwhile\u001b[39;00m \u001b[38;5;28;01mTrue\u001b[39;00m:\n\u001b[1;32m--> 319\u001b[0m     version, status, reason \u001b[38;5;241m=\u001b[39m \u001b[38;5;28;43mself\u001b[39;49m\u001b[38;5;241;43m.\u001b[39;49m\u001b[43m_read_status\u001b[49m\u001b[43m(\u001b[49m\u001b[43m)\u001b[49m\n\u001b[0;32m    320\u001b[0m     \u001b[38;5;28;01mif\u001b[39;00m status \u001b[38;5;241m!=\u001b[39m CONTINUE:\n\u001b[0;32m    321\u001b[0m         \u001b[38;5;28;01mbreak\u001b[39;00m\n",
      "File \u001b[1;32m~\\anaconda3\\lib\\http\\client.py:280\u001b[0m, in \u001b[0;36mHTTPResponse._read_status\u001b[1;34m(self)\u001b[0m\n\u001b[0;32m    279\u001b[0m \u001b[38;5;28;01mdef\u001b[39;00m \u001b[38;5;21m_read_status\u001b[39m(\u001b[38;5;28mself\u001b[39m):\n\u001b[1;32m--> 280\u001b[0m     line \u001b[38;5;241m=\u001b[39m \u001b[38;5;28mstr\u001b[39m(\u001b[38;5;28;43mself\u001b[39;49m\u001b[38;5;241;43m.\u001b[39;49m\u001b[43mfp\u001b[49m\u001b[38;5;241;43m.\u001b[39;49m\u001b[43mreadline\u001b[49m\u001b[43m(\u001b[49m\u001b[43m_MAXLINE\u001b[49m\u001b[43m \u001b[49m\u001b[38;5;241;43m+\u001b[39;49m\u001b[43m \u001b[49m\u001b[38;5;241;43m1\u001b[39;49m\u001b[43m)\u001b[49m, \u001b[38;5;124m\"\u001b[39m\u001b[38;5;124miso-8859-1\u001b[39m\u001b[38;5;124m\"\u001b[39m)\n\u001b[0;32m    281\u001b[0m     \u001b[38;5;28;01mif\u001b[39;00m \u001b[38;5;28mlen\u001b[39m(line) \u001b[38;5;241m>\u001b[39m _MAXLINE:\n\u001b[0;32m    282\u001b[0m         \u001b[38;5;28;01mraise\u001b[39;00m LineTooLong(\u001b[38;5;124m\"\u001b[39m\u001b[38;5;124mstatus line\u001b[39m\u001b[38;5;124m\"\u001b[39m)\n",
      "File \u001b[1;32m~\\anaconda3\\lib\\socket.py:704\u001b[0m, in \u001b[0;36mSocketIO.readinto\u001b[1;34m(self, b)\u001b[0m\n\u001b[0;32m    702\u001b[0m \u001b[38;5;28;01mwhile\u001b[39;00m \u001b[38;5;28;01mTrue\u001b[39;00m:\n\u001b[0;32m    703\u001b[0m     \u001b[38;5;28;01mtry\u001b[39;00m:\n\u001b[1;32m--> 704\u001b[0m         \u001b[38;5;28;01mreturn\u001b[39;00m \u001b[38;5;28;43mself\u001b[39;49m\u001b[38;5;241;43m.\u001b[39;49m\u001b[43m_sock\u001b[49m\u001b[38;5;241;43m.\u001b[39;49m\u001b[43mrecv_into\u001b[49m\u001b[43m(\u001b[49m\u001b[43mb\u001b[49m\u001b[43m)\u001b[49m\n\u001b[0;32m    705\u001b[0m     \u001b[38;5;28;01mexcept\u001b[39;00m timeout:\n\u001b[0;32m    706\u001b[0m         \u001b[38;5;28mself\u001b[39m\u001b[38;5;241m.\u001b[39m_timeout_occurred \u001b[38;5;241m=\u001b[39m \u001b[38;5;28;01mTrue\u001b[39;00m\n",
      "File \u001b[1;32m~\\anaconda3\\lib\\ssl.py:1241\u001b[0m, in \u001b[0;36mSSLSocket.recv_into\u001b[1;34m(self, buffer, nbytes, flags)\u001b[0m\n\u001b[0;32m   1237\u001b[0m     \u001b[38;5;28;01mif\u001b[39;00m flags \u001b[38;5;241m!=\u001b[39m \u001b[38;5;241m0\u001b[39m:\n\u001b[0;32m   1238\u001b[0m         \u001b[38;5;28;01mraise\u001b[39;00m \u001b[38;5;167;01mValueError\u001b[39;00m(\n\u001b[0;32m   1239\u001b[0m           \u001b[38;5;124m\"\u001b[39m\u001b[38;5;124mnon-zero flags not allowed in calls to recv_into() on \u001b[39m\u001b[38;5;132;01m%s\u001b[39;00m\u001b[38;5;124m\"\u001b[39m \u001b[38;5;241m%\u001b[39m\n\u001b[0;32m   1240\u001b[0m           \u001b[38;5;28mself\u001b[39m\u001b[38;5;241m.\u001b[39m\u001b[38;5;18m__class__\u001b[39m)\n\u001b[1;32m-> 1241\u001b[0m     \u001b[38;5;28;01mreturn\u001b[39;00m \u001b[38;5;28;43mself\u001b[39;49m\u001b[38;5;241;43m.\u001b[39;49m\u001b[43mread\u001b[49m\u001b[43m(\u001b[49m\u001b[43mnbytes\u001b[49m\u001b[43m,\u001b[49m\u001b[43m \u001b[49m\u001b[43mbuffer\u001b[49m\u001b[43m)\u001b[49m\n\u001b[0;32m   1242\u001b[0m \u001b[38;5;28;01melse\u001b[39;00m:\n\u001b[0;32m   1243\u001b[0m     \u001b[38;5;28;01mreturn\u001b[39;00m \u001b[38;5;28msuper\u001b[39m()\u001b[38;5;241m.\u001b[39mrecv_into(buffer, nbytes, flags)\n",
      "File \u001b[1;32m~\\anaconda3\\lib\\ssl.py:1099\u001b[0m, in \u001b[0;36mSSLSocket.read\u001b[1;34m(self, len, buffer)\u001b[0m\n\u001b[0;32m   1097\u001b[0m \u001b[38;5;28;01mtry\u001b[39;00m:\n\u001b[0;32m   1098\u001b[0m     \u001b[38;5;28;01mif\u001b[39;00m buffer \u001b[38;5;129;01mis\u001b[39;00m \u001b[38;5;129;01mnot\u001b[39;00m \u001b[38;5;28;01mNone\u001b[39;00m:\n\u001b[1;32m-> 1099\u001b[0m         \u001b[38;5;28;01mreturn\u001b[39;00m \u001b[38;5;28;43mself\u001b[39;49m\u001b[38;5;241;43m.\u001b[39;49m\u001b[43m_sslobj\u001b[49m\u001b[38;5;241;43m.\u001b[39;49m\u001b[43mread\u001b[49m\u001b[43m(\u001b[49m\u001b[38;5;28;43mlen\u001b[39;49m\u001b[43m,\u001b[49m\u001b[43m \u001b[49m\u001b[43mbuffer\u001b[49m\u001b[43m)\u001b[49m\n\u001b[0;32m   1100\u001b[0m     \u001b[38;5;28;01melse\u001b[39;00m:\n\u001b[0;32m   1101\u001b[0m         \u001b[38;5;28;01mreturn\u001b[39;00m \u001b[38;5;28mself\u001b[39m\u001b[38;5;241m.\u001b[39m_sslobj\u001b[38;5;241m.\u001b[39mread(\u001b[38;5;28mlen\u001b[39m)\n",
      "\u001b[1;31mKeyboardInterrupt\u001b[0m: "
     ]
    }
   ],
   "source": [
    "test = []\n",
    "test_final = []\n",
    "bk='변기'\n",
    "euc_data = bk.encode('euc-kr')\n",
    "bk2 = str(euc_data).replace(\"\\\\x\",\"%\")[2:-1]\n",
    "for i in tqdm(crawling):\n",
    "    \n",
    "#     page = urlopen(f'https://finance.naver.com//news/news_read.naver?article_id=0000356944&office_id=448&mode=search&query={bk2}&page=1')\n",
    "#     soup = BeautifulSoup(page, 'html.parser', from_encoding='cp-949')\n",
    "#     # a_v1 = soup.find('div', class_='articleCont')\n",
    "#     a_v1 = soup.find('div', id='content', class_='articleCont')\n",
    "#     b_v1 = soup.find('span', class_ = 'article_date')\n",
    "    i = re.sub(r'[ㄱ-ㅣ가-힣]',bk2, i)\n",
    "#     print(i)\n",
    "    page = urlopen(i)\n",
    "    soup = BeautifulSoup(page, 'html.parser', from_encoding='cp-949')\n",
    "#     print(soup)\n",
    "    \n",
    "    a_v1 = soup.find('div', id='content', class_='articleCont')\n",
    "#     print(a_v1)\n",
    "    \n",
    "    b_v1 = soup.find('span', class_ = 'article_date')\n",
    "#     print(b_v1)\n",
    "    \n",
    "    test = []\n",
    "    test.append(a_v1.text.strip(' \\t\\n\\r'))\n",
    "    test.append(b_v1.text)\n",
    "    test_final.append(test)\n",
    "    "
   ]
  },
  {
   "cell_type": "code",
   "execution_count": null,
   "id": "911dd7f8",
   "metadata": {},
   "outputs": [],
   "source": [
    "test_final = pd.DataFrame(test_final)\n",
    "test_final"
   ]
  },
  {
   "cell_type": "code",
   "execution_count": 2,
   "id": "795048c0",
   "metadata": {},
   "outputs": [
    {
     "name": "stdout",
     "output_type": "stream",
     "text": [
      "test\n"
     ]
    }
   ],
   "source": [
    "print('test')"
   ]
  }
 ],
 "metadata": {
  "kernelspec": {
   "display_name": "BKST",
   "language": "python",
   "name": "bkst"
  },
  "language_info": {
   "codemirror_mode": {
    "name": "ipython",
    "version": 3
   },
   "file_extension": ".py",
   "mimetype": "text/x-python",
   "name": "python",
   "nbconvert_exporter": "python",
   "pygments_lexer": "ipython3",
   "version": "3.9.7"
  }
 },
 "nbformat": 4,
 "nbformat_minor": 5
}
