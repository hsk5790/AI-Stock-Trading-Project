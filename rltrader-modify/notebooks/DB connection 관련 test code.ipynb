{
 "cells": [
  {
   "cell_type": "code",
   "execution_count": 3,
   "id": "d0b65960",
   "metadata": {},
   "outputs": [],
   "source": [
    "info_relate_epoch = [{'stock_code': '1', 'epoch': '2' \\\n",
    "                                     , 'epsilon': '3', 'expl': '4' \\\n",
    "                                     , 'buy': '5', 'sell': '6',\n",
    "                                  'hold': '7' \\\n",
    "                                     , 'stocks': '8', 'PV': '9' \\\n",
    "                                     , 'loss': '10', 'ET': '11'}]"
   ]
  },
  {
   "cell_type": "code",
   "execution_count": 4,
   "id": "2d293256",
   "metadata": {},
   "outputs": [
    {
     "name": "stdout",
     "output_type": "stream",
     "text": [
      "[{'stock_code': '1', 'epoch': '2', 'epsilon': '3', 'expl': '4', 'buy': '5', 'sell': '6', 'hold': '7', 'stocks': '8', 'PV': '9', 'loss': '10', 'ET': '11'}]\n"
     ]
    }
   ],
   "source": [
    "print(info_relate_epoch)"
   ]
  },
  {
   "cell_type": "code",
   "execution_count": 7,
   "id": "07e55cb4",
   "metadata": {},
   "outputs": [],
   "source": [
    "def insert(info_relate_epoch):\n",
    "    sql = (\n",
    "            \"insert into log_table      \"\n",
    "          + \"values(                  \"\n",
    "          + \"     %(stock_code)s      \"\n",
    "          + \"     %(epoch)s      \"\n",
    "          + \"     %(epsilon)s      \"\n",
    "          + \"     %(expl)s      \"\n",
    "          + \"     %(buy)s      \"\n",
    "          + \"     %(sell)s      \"\n",
    "          + \"     %(hold)s      \"\n",
    "          + \"     %(stocks)s      \"\n",
    "          + \"     %(PV)s      \"\n",
    "          + \"     %(loss)s      \"\n",
    "          + \"     %(ET)s      \"\n",
    "\n",
    "\n",
    "    )"
   ]
  },
  {
   "cell_type": "code",
   "execution_count": 8,
   "id": "6b6a21f6",
   "metadata": {},
   "outputs": [],
   "source": [
    "insert(info_relate_epoch)"
   ]
  },
  {
   "cell_type": "code",
   "execution_count": 11,
   "id": "94f9e846",
   "metadata": {},
   "outputs": [
    {
     "name": "stdout",
     "output_type": "stream",
     "text": [
      "<function insert at 0x000001FCF30C9430>\n"
     ]
    }
   ],
   "source": [
    "insert"
   ]
  },
  {
   "cell_type": "code",
   "execution_count": 18,
   "id": "6a4a5fff",
   "metadata": {},
   "outputs": [],
   "source": [
    "sql = (\n",
    "            \"insert into log_table      \"\n",
    "          + \"values(                  \"\n",
    "          + \"       %(stock_code)s      \"\n",
    "          + \"     , %(epoch)s      \"\n",
    "          + \"     , %(epsilon)s      \"\n",
    "          + \"     , %(expl)s      \"\n",
    "          + \"     , %(buy)s      \"\n",
    "          + \"     , %(sell)s      \"\n",
    "          + \"     , %(hold)s      \"\n",
    "          + \"     , %(stocks)s      \"\n",
    "          + \"     , %(PV)s      \"\n",
    "          + \"     , %(loss)s      \"\n",
    "          + \"     , %(ET)s      \"\n",
    "\n",
    "\n",
    "    )"
   ]
  },
  {
   "cell_type": "code",
   "execution_count": 19,
   "id": "f576dc0c",
   "metadata": {},
   "outputs": [
    {
     "data": {
      "text/plain": [
       "'insert into log_table      values(                         %(stock_code)s           , %(epoch)s           , %(epsilon)s           , %(expl)s           , %(buy)s           , %(sell)s           , %(hold)s           , %(stocks)s           , %(PV)s           , %(loss)s           , %(ET)s      '"
      ]
     },
     "execution_count": 19,
     "metadata": {},
     "output_type": "execute_result"
    }
   ],
   "source": [
    "sql"
   ]
  },
  {
   "cell_type": "code",
   "execution_count": null,
   "id": "c535a56b",
   "metadata": {},
   "outputs": [],
   "source": [
    "import pymysql\n",
    "\n",
    "db = pymysql.connect(host='34.64.33.94', user='test', db='test', password='test', charset='utf8')\n",
    "\n",
    "cursor = db.cursor()"
   ]
  },
  {
   "cell_type": "code",
   "execution_count": null,
   "id": "9bcab7d1",
   "metadata": {},
   "outputs": [],
   "source": [
    "output_name = 1\n",
    "\n",
    "def create(output_name):\n",
    "    sql = \"create table   f{output_name}  (\\\n",
    "\t  seq                  int not null auto_increment\\\n",
    "\t, stock_code           varchar(20)\\\n",
    "\t, epoch                varchar(20)\\\n",
    "\t, epsilon              varchar(20)\\\n",
    "\t, expl                 varchar(20)\\\n",
    "\t, buy                  varchar(20)\\\n",
    "\t, sell                 varchar(20)\\\n",
    "\t, hold                 varchar(20)\\\n",
    "\t, stocks               varchar(20)\\\n",
    "\t, PV                   varchar(20)\\\n",
    "\t, loss                 varchar(20)\\\n",
    "\t, ET                   varchar(20)\\\n",
    "    )\\\n",
    "    ;\"\n",
    "    cursor.execute(sql)\n",
    "\n",
    "\n",
    "def insert(self,info_relate_epoch):\n",
    "    sql = (\n",
    "            \"insert into log_table      \"\n",
    "          + \"values(                  \"\n",
    "          + \"     %(stock_code)s      \"\n",
    "          + \"     , %(epoch)s      \"\n",
    "          + \"     , %(epsilon)s      \"\n",
    "          + \"     , %(expl)s      \"\n",
    "          + \"     , %(buy)s      \"\n",
    "          + \"     , %(sell)s      \"\n",
    "          + \"     , %(hold)s      \"\n",
    "          + \"     , %(stocks)s      \"\n",
    "          + \"     , %(PV)s      \"\n",
    "          + \"     , %(loss)s      \"\n",
    "          + \"     , %(ET)s      \"\n",
    "    )\n",
    "    cursor.execute(sql,info_relate_epoch)\n",
    "\n",
    "sql = \"select * from books\";\n",
    "cursor.execute(sql)\n",
    "\n",
    "rows = cursor.fetchall()\n",
    "print(rows)\n",
    "\n",
    "db.commit() # 커밋 시 데이터베이스 반영"
   ]
  },
  {
   "cell_type": "markdown",
   "id": "f0136988",
   "metadata": {},
   "source": [
    "## DB에 Table 생성"
   ]
  },
  {
   "cell_type": "code",
   "execution_count": 8,
   "id": "204f7b0f",
   "metadata": {
    "collapsed": true
   },
   "outputs": [
    {
     "ename": "OperationalError",
     "evalue": "(1050, \"Table 'log_table_test' already exists\")",
     "output_type": "error",
     "traceback": [
      "\u001b[1;31m---------------------------------------------------------------------------\u001b[0m",
      "\u001b[1;31mOperationalError\u001b[0m                          Traceback (most recent call last)",
      "Input \u001b[1;32mIn [8]\u001b[0m, in \u001b[0;36m<cell line: 25>\u001b[1;34m()\u001b[0m\n\u001b[0;32m      5\u001b[0m cursor \u001b[38;5;241m=\u001b[39m db\u001b[38;5;241m.\u001b[39mcursor()\n\u001b[0;32m      8\u001b[0m sql \u001b[38;5;241m=\u001b[39m (\n\u001b[0;32m      9\u001b[0m             \u001b[38;5;124m\"\u001b[39m\u001b[38;5;124m create table   log_table_test   (                                 \u001b[39m\u001b[38;5;124m\"\u001b[39m\n\u001b[0;32m     10\u001b[0m             \u001b[38;5;124m\"\u001b[39m\u001b[38;5;124m      seq                 int not null auto_increment primary key \u001b[39m\u001b[38;5;124m\"\u001b[39m\n\u001b[1;32m   (...)\u001b[0m\n\u001b[0;32m     22\u001b[0m             \u001b[38;5;124m\"\u001b[39m\u001b[38;5;124m   )                                                  \u001b[39m\u001b[38;5;124m\"\u001b[39m\n\u001b[0;32m     23\u001b[0m     )\n\u001b[1;32m---> 25\u001b[0m \u001b[43mcursor\u001b[49m\u001b[38;5;241;43m.\u001b[39;49m\u001b[43mexecute\u001b[49m\u001b[43m(\u001b[49m\u001b[43msql\u001b[49m\u001b[43m)\u001b[49m\n\u001b[0;32m     26\u001b[0m db\u001b[38;5;241m.\u001b[39mcommit()\n",
      "File \u001b[1;32m~\\anaconda3\\envs\\bkst\\lib\\site-packages\\pymysql\\cursors.py:148\u001b[0m, in \u001b[0;36mCursor.execute\u001b[1;34m(self, query, args)\u001b[0m\n\u001b[0;32m    144\u001b[0m     \u001b[38;5;28;01mpass\u001b[39;00m\n\u001b[0;32m    146\u001b[0m query \u001b[38;5;241m=\u001b[39m \u001b[38;5;28mself\u001b[39m\u001b[38;5;241m.\u001b[39mmogrify(query, args)\n\u001b[1;32m--> 148\u001b[0m result \u001b[38;5;241m=\u001b[39m \u001b[38;5;28;43mself\u001b[39;49m\u001b[38;5;241;43m.\u001b[39;49m\u001b[43m_query\u001b[49m\u001b[43m(\u001b[49m\u001b[43mquery\u001b[49m\u001b[43m)\u001b[49m\n\u001b[0;32m    149\u001b[0m \u001b[38;5;28mself\u001b[39m\u001b[38;5;241m.\u001b[39m_executed \u001b[38;5;241m=\u001b[39m query\n\u001b[0;32m    150\u001b[0m \u001b[38;5;28;01mreturn\u001b[39;00m result\n",
      "File \u001b[1;32m~\\anaconda3\\envs\\bkst\\lib\\site-packages\\pymysql\\cursors.py:310\u001b[0m, in \u001b[0;36mCursor._query\u001b[1;34m(self, q)\u001b[0m\n\u001b[0;32m    308\u001b[0m \u001b[38;5;28mself\u001b[39m\u001b[38;5;241m.\u001b[39m_last_executed \u001b[38;5;241m=\u001b[39m q\n\u001b[0;32m    309\u001b[0m \u001b[38;5;28mself\u001b[39m\u001b[38;5;241m.\u001b[39m_clear_result()\n\u001b[1;32m--> 310\u001b[0m \u001b[43mconn\u001b[49m\u001b[38;5;241;43m.\u001b[39;49m\u001b[43mquery\u001b[49m\u001b[43m(\u001b[49m\u001b[43mq\u001b[49m\u001b[43m)\u001b[49m\n\u001b[0;32m    311\u001b[0m \u001b[38;5;28mself\u001b[39m\u001b[38;5;241m.\u001b[39m_do_get_result()\n\u001b[0;32m    312\u001b[0m \u001b[38;5;28;01mreturn\u001b[39;00m \u001b[38;5;28mself\u001b[39m\u001b[38;5;241m.\u001b[39mrowcount\n",
      "File \u001b[1;32m~\\anaconda3\\envs\\bkst\\lib\\site-packages\\pymysql\\connections.py:548\u001b[0m, in \u001b[0;36mConnection.query\u001b[1;34m(self, sql, unbuffered)\u001b[0m\n\u001b[0;32m    546\u001b[0m     sql \u001b[38;5;241m=\u001b[39m sql\u001b[38;5;241m.\u001b[39mencode(\u001b[38;5;28mself\u001b[39m\u001b[38;5;241m.\u001b[39mencoding, \u001b[38;5;124m\"\u001b[39m\u001b[38;5;124msurrogateescape\u001b[39m\u001b[38;5;124m\"\u001b[39m)\n\u001b[0;32m    547\u001b[0m \u001b[38;5;28mself\u001b[39m\u001b[38;5;241m.\u001b[39m_execute_command(COMMAND\u001b[38;5;241m.\u001b[39mCOM_QUERY, sql)\n\u001b[1;32m--> 548\u001b[0m \u001b[38;5;28mself\u001b[39m\u001b[38;5;241m.\u001b[39m_affected_rows \u001b[38;5;241m=\u001b[39m \u001b[38;5;28;43mself\u001b[39;49m\u001b[38;5;241;43m.\u001b[39;49m\u001b[43m_read_query_result\u001b[49m\u001b[43m(\u001b[49m\u001b[43munbuffered\u001b[49m\u001b[38;5;241;43m=\u001b[39;49m\u001b[43munbuffered\u001b[49m\u001b[43m)\u001b[49m\n\u001b[0;32m    549\u001b[0m \u001b[38;5;28;01mreturn\u001b[39;00m \u001b[38;5;28mself\u001b[39m\u001b[38;5;241m.\u001b[39m_affected_rows\n",
      "File \u001b[1;32m~\\anaconda3\\envs\\bkst\\lib\\site-packages\\pymysql\\connections.py:775\u001b[0m, in \u001b[0;36mConnection._read_query_result\u001b[1;34m(self, unbuffered)\u001b[0m\n\u001b[0;32m    773\u001b[0m \u001b[38;5;28;01melse\u001b[39;00m:\n\u001b[0;32m    774\u001b[0m     result \u001b[38;5;241m=\u001b[39m MySQLResult(\u001b[38;5;28mself\u001b[39m)\n\u001b[1;32m--> 775\u001b[0m     \u001b[43mresult\u001b[49m\u001b[38;5;241;43m.\u001b[39;49m\u001b[43mread\u001b[49m\u001b[43m(\u001b[49m\u001b[43m)\u001b[49m\n\u001b[0;32m    776\u001b[0m \u001b[38;5;28mself\u001b[39m\u001b[38;5;241m.\u001b[39m_result \u001b[38;5;241m=\u001b[39m result\n\u001b[0;32m    777\u001b[0m \u001b[38;5;28;01mif\u001b[39;00m result\u001b[38;5;241m.\u001b[39mserver_status \u001b[38;5;129;01mis\u001b[39;00m \u001b[38;5;129;01mnot\u001b[39;00m \u001b[38;5;28;01mNone\u001b[39;00m:\n",
      "File \u001b[1;32m~\\anaconda3\\envs\\bkst\\lib\\site-packages\\pymysql\\connections.py:1156\u001b[0m, in \u001b[0;36mMySQLResult.read\u001b[1;34m(self)\u001b[0m\n\u001b[0;32m   1154\u001b[0m \u001b[38;5;28;01mdef\u001b[39;00m \u001b[38;5;21mread\u001b[39m(\u001b[38;5;28mself\u001b[39m):\n\u001b[0;32m   1155\u001b[0m     \u001b[38;5;28;01mtry\u001b[39;00m:\n\u001b[1;32m-> 1156\u001b[0m         first_packet \u001b[38;5;241m=\u001b[39m \u001b[38;5;28;43mself\u001b[39;49m\u001b[38;5;241;43m.\u001b[39;49m\u001b[43mconnection\u001b[49m\u001b[38;5;241;43m.\u001b[39;49m\u001b[43m_read_packet\u001b[49m\u001b[43m(\u001b[49m\u001b[43m)\u001b[49m\n\u001b[0;32m   1158\u001b[0m         \u001b[38;5;28;01mif\u001b[39;00m first_packet\u001b[38;5;241m.\u001b[39mis_ok_packet():\n\u001b[0;32m   1159\u001b[0m             \u001b[38;5;28mself\u001b[39m\u001b[38;5;241m.\u001b[39m_read_ok_packet(first_packet)\n",
      "File \u001b[1;32m~\\anaconda3\\envs\\bkst\\lib\\site-packages\\pymysql\\connections.py:725\u001b[0m, in \u001b[0;36mConnection._read_packet\u001b[1;34m(self, packet_type)\u001b[0m\n\u001b[0;32m    723\u001b[0m     \u001b[38;5;28;01mif\u001b[39;00m \u001b[38;5;28mself\u001b[39m\u001b[38;5;241m.\u001b[39m_result \u001b[38;5;129;01mis\u001b[39;00m \u001b[38;5;129;01mnot\u001b[39;00m \u001b[38;5;28;01mNone\u001b[39;00m \u001b[38;5;129;01mand\u001b[39;00m \u001b[38;5;28mself\u001b[39m\u001b[38;5;241m.\u001b[39m_result\u001b[38;5;241m.\u001b[39munbuffered_active \u001b[38;5;129;01mis\u001b[39;00m \u001b[38;5;28;01mTrue\u001b[39;00m:\n\u001b[0;32m    724\u001b[0m         \u001b[38;5;28mself\u001b[39m\u001b[38;5;241m.\u001b[39m_result\u001b[38;5;241m.\u001b[39munbuffered_active \u001b[38;5;241m=\u001b[39m \u001b[38;5;28;01mFalse\u001b[39;00m\n\u001b[1;32m--> 725\u001b[0m     \u001b[43mpacket\u001b[49m\u001b[38;5;241;43m.\u001b[39;49m\u001b[43mraise_for_error\u001b[49m\u001b[43m(\u001b[49m\u001b[43m)\u001b[49m\n\u001b[0;32m    726\u001b[0m \u001b[38;5;28;01mreturn\u001b[39;00m packet\n",
      "File \u001b[1;32m~\\anaconda3\\envs\\bkst\\lib\\site-packages\\pymysql\\protocol.py:221\u001b[0m, in \u001b[0;36mMysqlPacket.raise_for_error\u001b[1;34m(self)\u001b[0m\n\u001b[0;32m    219\u001b[0m \u001b[38;5;28;01mif\u001b[39;00m DEBUG:\n\u001b[0;32m    220\u001b[0m     \u001b[38;5;28mprint\u001b[39m(\u001b[38;5;124m\"\u001b[39m\u001b[38;5;124merrno =\u001b[39m\u001b[38;5;124m\"\u001b[39m, errno)\n\u001b[1;32m--> 221\u001b[0m \u001b[43merr\u001b[49m\u001b[38;5;241;43m.\u001b[39;49m\u001b[43mraise_mysql_exception\u001b[49m\u001b[43m(\u001b[49m\u001b[38;5;28;43mself\u001b[39;49m\u001b[38;5;241;43m.\u001b[39;49m\u001b[43m_data\u001b[49m\u001b[43m)\u001b[49m\n",
      "File \u001b[1;32m~\\anaconda3\\envs\\bkst\\lib\\site-packages\\pymysql\\err.py:143\u001b[0m, in \u001b[0;36mraise_mysql_exception\u001b[1;34m(data)\u001b[0m\n\u001b[0;32m    141\u001b[0m \u001b[38;5;28;01mif\u001b[39;00m errorclass \u001b[38;5;129;01mis\u001b[39;00m \u001b[38;5;28;01mNone\u001b[39;00m:\n\u001b[0;32m    142\u001b[0m     errorclass \u001b[38;5;241m=\u001b[39m InternalError \u001b[38;5;28;01mif\u001b[39;00m errno \u001b[38;5;241m<\u001b[39m \u001b[38;5;241m1000\u001b[39m \u001b[38;5;28;01melse\u001b[39;00m OperationalError\n\u001b[1;32m--> 143\u001b[0m \u001b[38;5;28;01mraise\u001b[39;00m errorclass(errno, errval)\n",
      "\u001b[1;31mOperationalError\u001b[0m: (1050, \"Table 'log_table_test' already exists\")"
     ]
    }
   ],
   "source": [
    "# DB에 table 생성\n",
    "\n",
    "import pymysql\n",
    "\n",
    "db = pymysql.connect(host='34.64.33.94', user='test', db='test', password='test', charset='utf8')\n",
    "\n",
    "cursor = db.cursor()\n",
    "\n",
    "\n",
    "sql = (\n",
    "            \" create table   log_table_test   (                                 \"\n",
    "            \"      seq                 int not null auto_increment primary key \"\n",
    "            \"   , stock_code           varchar(20)                             \"\n",
    "            \"   , epoch                varchar(20)                          \"\n",
    "            \"   , epsilon              varchar(20)                  \"\n",
    "            \"   , expl                 varchar(20)                  \"\n",
    "            \"   , buy                  varchar(20)                  \"\n",
    "            \"   , sell                 varchar(20)                  \"\n",
    "            \"   , hold                 varchar(20)                  \"\n",
    "            \"   , stocks               varchar(20)                  \"\n",
    "            \"   , PV                   varchar(20)                  \"\n",
    "            \"   , loss                 varchar(20)                  \"\n",
    "            \"   , ET                   varchar(20)                  \"\n",
    "            \"   )                                                  \"\n",
    "    )\n",
    "\n",
    "cursor.execute(sql)\n",
    "db.commit()"
   ]
  },
  {
   "cell_type": "code",
   "execution_count": 11,
   "id": "d4b215a8",
   "metadata": {
    "scrolled": true
   },
   "outputs": [
    {
     "name": "stdout",
     "output_type": "stream",
     "text": [
      "('CODE',)\n",
      "('Days',)\n",
      "('books',)\n",
      "('juga',)\n",
      "('log_table_test',)\n"
     ]
    }
   ],
   "source": [
    "cursor.execute(\"SHOW TABLES\")\n",
    "for x in cursor:\n",
    "\tprint(x)"
   ]
  },
  {
   "cell_type": "code",
   "execution_count": null,
   "id": "7540425a",
   "metadata": {},
   "outputs": [],
   "source": [
    "sql = \"insert into books values('?','?','?')\"\n",
    "cursor.execute(sql)"
   ]
  },
  {
   "cell_type": "code",
   "execution_count": 74,
   "id": "2e9d48d3",
   "metadata": {},
   "outputs": [
    {
     "name": "stdout",
     "output_type": "stream",
     "text": [
      "((1, '1', '2', '3', '4', '5', '6', '7', '8', '9', '10', '11'), (2, '1', '2', '3', '4', '5', '6', '7', '8', '9', '10', '11'), (3, '1', '2', '3', '4', '5', '6', '7', '8', '9', '10', '11'), (4, '1', '2', '3', '4', '5', '6', '7', '8', '9', '10', '11'), (5, '1', '2', '3', '4', '5', '6', '7', '8', '9', '10', '11'), (6, '1', '2', '3', '4', '5', '6', '7', '8', '9', '10', '11'))\n"
     ]
    }
   ],
   "source": [
    "sql = \"select * from log_table_test\";\n",
    "cursor.execute(sql)\n",
    "\n",
    "rows = cursor.fetchall()\n",
    "print(rows)\n",
    "\n",
    "db.commit() # 커밋 시 데이터베이스 반영"
   ]
  },
  {
   "cell_type": "code",
   "execution_count": 29,
   "id": "ab9f7ba0",
   "metadata": {},
   "outputs": [],
   "source": [
    "cursor.execute?"
   ]
  },
  {
   "cell_type": "code",
   "execution_count": 55,
   "id": "bb1e7a71",
   "metadata": {},
   "outputs": [],
   "source": [
    "info_relate_epoch = {'stock_code': '1', 'epoch': '2' \\\n",
    "                                     , 'epsilon': '3', 'expl': '4' \\\n",
    "                                     , 'buy': '5', 'sell': '6',\n",
    "                                  'hold': '7' \\\n",
    "                                     , 'stocks': '8', 'PV': '9' \\\n",
    "                                     , 'loss': '10', 'ET': '11'}"
   ]
  },
  {
   "cell_type": "code",
   "execution_count": 112,
   "id": "b295890e",
   "metadata": {},
   "outputs": [],
   "source": [
    " info_relate_epoch = {'stock_code': '005930', 'epoch': '0001/1000', 'epsilon': '1.0000', 'expl': '248/248', 'buy': '87', 'sell': '79', 'hold': '82', 'stocks': '426', 'PV': '102,742,674', 'loss': '0.022701', 'ET': '0.4050'}"
   ]
  },
  {
   "cell_type": "code",
   "execution_count": 89,
   "id": "b4b49732",
   "metadata": {
    "scrolled": false
   },
   "outputs": [
    {
     "data": {
      "text/plain": [
       "dict_values(['005930', '0001/1000', '1.0000', '248/248', '87', '79', '82', '426', '102,742,674', '0.022701', '0.4050'])"
      ]
     },
     "execution_count": 89,
     "metadata": {},
     "output_type": "execute_result"
    }
   ],
   "source": [
    "info_relate_epoch.values()"
   ]
  },
  {
   "cell_type": "code",
   "execution_count": 97,
   "id": "6f864bd6",
   "metadata": {},
   "outputs": [
    {
     "data": {
      "text/plain": [
       "('005930',\n",
       " '0001/1000',\n",
       " '1.0000',\n",
       " '248/248',\n",
       " '87',\n",
       " '79',\n",
       " '82',\n",
       " '426',\n",
       " '102,742,674',\n",
       " '0.022701',\n",
       " '0.4050')"
      ]
     },
     "execution_count": 97,
     "metadata": {},
     "output_type": "execute_result"
    }
   ],
   "source": [
    "tuple(info_relate_epoch.values())"
   ]
  },
  {
   "cell_type": "code",
   "execution_count": 126,
   "id": "14b392fa",
   "metadata": {},
   "outputs": [
    {
     "name": "stdout",
     "output_type": "stream",
     "text": [
      "db_con: info_relate_epoch :  {'stock_code': '005930', 'epoch': '0001/1000', 'epsilon': '1.0000', 'expl': '248/248', 'buy': '87', 'sell': '79', 'hold': '82', 'stocks': '426', 'PV': '102,742,674', 'loss': '0.022701', 'ET': '0.4050'} <class 'dict'>\n"
     ]
    },
    {
     "data": {
      "text/plain": [
       "1"
      ]
     },
     "execution_count": 126,
     "metadata": {},
     "output_type": "execute_result"
    }
   ],
   "source": [
    "# info_relate_epoch에 있는 values()를 tuple로 변환해서 사용\n",
    "# 근데 values에 뭐가 있는지 바로 알기 힘들다.\n",
    "\n",
    "sql = \"\"\" \n",
    "        insert into log_table_test(\n",
    "              stock_code          \n",
    "            , epoch               \n",
    "            , epsilon             \n",
    "            , expl                \n",
    "            , buy                 \n",
    "            , sell                \n",
    "            , hold                \n",
    "            , stocks              \n",
    "            , PV                  \n",
    "            , loss                \n",
    "            , ET  \n",
    "        )          \n",
    "        values(    %s      \n",
    "                 , %s      \n",
    "                 , %s      \n",
    "                 , %s      \n",
    "                 , %s      \n",
    "                 , %s      \n",
    "                 , %s      \n",
    "                 , %s      \n",
    "                 , %s      \n",
    "                 , %s      \n",
    "                 , %s\n",
    "        )          \n",
    "\"\"\"\n",
    "cursor.execute(sql,tuple(info_relate_epoch.values()))"
   ]
  },
  {
   "cell_type": "code",
   "execution_count": 129,
   "id": "0c0e78ca",
   "metadata": {
    "scrolled": true
   },
   "outputs": [
    {
     "data": {
      "text/plain": [
       "' \\n        insert into log_table_test(\\n              stock_code          \\n            , epoch               \\n            , epsilon             \\n            , expl                \\n            , buy                 \\n            , sell                \\n            , hold                \\n            , stocks              \\n            , PV                  \\n            , loss                \\n            , ET  \\n        )          \\n        values(    005930      \\n                 , 0001/1000      \\n                 , 1.0000      \\n                 , 248/248      \\n                 , 87      \\n                 , 79      \\n                 , 82      \\n                 , 426      \\n                 , 102,742,674      \\n                 , 0.022701      \\n                 , 0.4050\\n        )\\n'"
      ]
     },
     "execution_count": 129,
     "metadata": {},
     "output_type": "execute_result"
    }
   ],
   "source": [
    "sql"
   ]
  },
  {
   "cell_type": "code",
   "execution_count": 132,
   "id": "11980a06",
   "metadata": {},
   "outputs": [],
   "source": [
    "# 파이썬 문자열 형식화를 사용해서 dict에 있는 key를 사용해서\n",
    "# 직관적으로 어떤 값을 썼는지 알 수 있다.\n",
    "# 근데 입력하는 방법을 모르겠다.\n",
    "\n",
    "sql = \"\"\" \n",
    "        insert into log_table_test(\n",
    "              stock_code          \n",
    "            , epoch               \n",
    "            , epsilon             \n",
    "            , expl                \n",
    "            , buy                 \n",
    "            , sell                \n",
    "            , hold                \n",
    "            , stocks              \n",
    "            , PV                  \n",
    "            , loss                \n",
    "            , ET  \n",
    "        )          \n",
    "        values(    %(stock_code)s      \n",
    "                 , %(epoch)s      \n",
    "                 , %(epsilon)s      \n",
    "                 , %(expl)s      \n",
    "                 , %(buy)s      \n",
    "                 , %(sell)s      \n",
    "                 , %(hold)s      \n",
    "                 , %(stocks)s      \n",
    "                 , %(PV)s      \n",
    "                 , %(loss)s      \n",
    "                 , %(ET)s\n",
    "        )\n",
    "\"\"\" % info_relate_epoch # 파이썬 문자열 형식화\n",
    "cursor.execute(sql)"
   ]
  },
  {
   "cell_type": "code",
   "execution_count": 121,
   "id": "2a3fb6b8",
   "metadata": {
    "scrolled": false
   },
   "outputs": [
    {
     "data": {
      "text/plain": [
       "' \\n        insert into log_table_test(\\n              stock_code          \\n            , epoch               \\n            , epsilon             \\n            , expl                \\n            , buy                 \\n            , sell                \\n            , hold                \\n            , stocks              \\n            , PV                  \\n            , loss                \\n            , ET  \\n        )          \\n        values(    005930      \\n                 , 0001/1000      \\n                 , 1.0000      \\n                 , 248/248      \\n                 , 87      \\n                 , 79      \\n                 , 82      \\n                 , 426      \\n                 , 102,742,674      \\n                 , 0.022701      \\n                 , 0.4050\\n        )\\n'"
      ]
     },
     "execution_count": 121,
     "metadata": {},
     "output_type": "execute_result"
    }
   ],
   "source": [
    "sql"
   ]
  },
  {
   "cell_type": "code",
   "execution_count": 116,
   "id": "903e61ae",
   "metadata": {},
   "outputs": [
    {
     "name": "stdout",
     "output_type": "stream",
     "text": [
      "(1, '1', '2', '3', '4', '5', '6', '7', '8', '9', '10', '11')\n",
      "(2, '1', '2', '3', '4', '5', '6', '7', '8', '9', '10', '11')\n",
      "(3, '1', '2', '3', '4', '5', '6', '7', '8', '9', '10', '11')\n",
      "(4, '1', '2', '3', '4', '5', '6', '7', '8', '9', '10', '11')\n",
      "(5, '1', '2', '3', '4', '5', '6', '7', '8', '9', '10', '11')\n",
      "(6, '1', '2', '3', '4', '5', '6', '7', '8', '9', '10', '11')\n",
      "(7, '1', '2', '3', '4', '5', '6', '7', '8', '9', '10', '11')\n",
      "(8, '1', '2', '3', '4', '5', '6', '7', '8', '9', '10', '11')\n",
      "(9, '1', '2', '3', '4', '5', '6', '7', '8', '9', '10', '11')\n",
      "(10, '1', '2', '3', '4', '5', '6', '7', '8', '9', '10', '11')\n",
      "(11, '005930', '0001/1000', '1.0000', '248/248', '87', '79', '82', '426', '102,742,674', '0.022701', '0.4050')\n",
      "(12, '005930', '0001/1000', '1.0000', '248/248', '87', '79', '82', '426', '102,742,674', '0.022701', '0.4050')\n",
      "(13, '005930', '0001/1000', '1.0000', '248/248', '87', '79', '82', '426', '102,742,674', '0.022701', '0.4050')\n"
     ]
    }
   ],
   "source": [
    "cursor.execute(\"SELECT * FROM log_table_test\")\n",
    "\n",
    "myresult = cursor.fetchall()\n",
    "\n",
    "for x in myresult:\n",
    "  print(x)"
   ]
  },
  {
   "cell_type": "code",
   "execution_count": 82,
   "id": "eb5969a6",
   "metadata": {},
   "outputs": [
    {
     "name": "stdout",
     "output_type": "stream",
     "text": [
      "((1, '1', '2', '3', '4', '5', '6', '7', '8', '9', '10', '11'), (2, '1', '2', '3', '4', '5', '6', '7', '8', '9', '10', '11'), (3, '1', '2', '3', '4', '5', '6', '7', '8', '9', '10', '11'), (4, '1', '2', '3', '4', '5', '6', '7', '8', '9', '10', '11'), (5, '1', '2', '3', '4', '5', '6', '7', '8', '9', '10', '11'), (6, '1', '2', '3', '4', '5', '6', '7', '8', '9', '10', '11'), (7, '1', '2', '3', '4', '5', '6', '7', '8', '9', '10', '11'), (8, '1', '2', '3', '4', '5', '6', '7', '8', '9', '10', '11'), (9, '1', '2', '3', '4', '5', '6', '7', '8', '9', '10', '11'))\n"
     ]
    }
   ],
   "source": [
    "sql = \"select * from log_table_test\";\n",
    "cursor.execute(sql)\n",
    "\n",
    "rows = cursor.fetchall()\n",
    "print(rows)\n",
    "\n",
    "db.commit() # 커밋 시 데이터베이스 반영"
   ]
  }
 ],
 "metadata": {
  "kernelspec": {
   "display_name": "bkst",
   "language": "python",
   "name": "bkst"
  },
  "language_info": {
   "codemirror_mode": {
    "name": "ipython",
    "version": 3
   },
   "file_extension": ".py",
   "mimetype": "text/x-python",
   "name": "python",
   "nbconvert_exporter": "python",
   "pygments_lexer": "ipython3",
   "version": "3.8.13"
  }
 },
 "nbformat": 4,
 "nbformat_minor": 5
}
