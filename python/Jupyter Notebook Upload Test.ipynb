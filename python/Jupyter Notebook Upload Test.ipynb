{
 "cells": [
  {
   "cell_type": "markdown",
   "id": "3fb73c8b",
   "metadata": {},
   "source": [
    "### Jupyter Notebook Upload Test"
   ]
  },
  {
   "cell_type": "markdown",
   "id": "335e5590",
   "metadata": {},
   "source": [
    "### Jupyter Notebook Upload Test4"
   ]
  }
 ],
 "metadata": {
  "kernelspec": {
   "display_name": "Python 3 (ipykernel)",
   "language": "python",
   "name": "python3"
  },
  "language_info": {
   "codemirror_mode": {
    "name": "ipython",
    "version": 3
   },
   "file_extension": ".py",
   "mimetype": "text/x-python",
   "name": "python",
   "nbconvert_exporter": "python",
   "pygments_lexer": "ipython3",
   "version": "3.9.7"
  }
 },
 "nbformat": 4,
 "nbformat_minor": 5
}
