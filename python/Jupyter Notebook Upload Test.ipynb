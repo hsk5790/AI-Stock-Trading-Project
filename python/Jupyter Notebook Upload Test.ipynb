{
 "cells": [
  {
   "cell_type": "markdown",
   "id": "3fb73c8b",
   "metadata": {},
   "source": [
    "### Jupyter Notebook Upload Test"
   ]
  },
  {
   "cell_type": "markdown",
   "id": "8286a3b1",
   "metadata": {},
   "source": [
    "### Jupyter Notebook Upload Test2"
   ]
  },
  {
   "cell_type": "markdown",
   "id": "4badaf68",
   "metadata": {},
   "source": [
    "### Jupyter Notebook Upload Test 3"
   ]
  }
 ],
 "metadata": {
  "kernelspec": {
   "display_name": "Python 3 (ipykernel)",
   "language": "python",
   "name": "python3"
  },
  "language_info": {
   "codemirror_mode": {
    "name": "ipython",
    "version": 3
   },
   "file_extension": ".py",
   "mimetype": "text/x-python",
   "name": "python",
   "nbconvert_exporter": "python",
   "pygments_lexer": "ipython3",
   "version": "3.9.12"
  }
 },
 "nbformat": 4,
 "nbformat_minor": 5
}
